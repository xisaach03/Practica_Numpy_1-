{
 "cells": [
  {
   "metadata": {},
   "cell_type": "markdown",
   "source": [
    "```\n",
    "                                                                    .___ ______________________  _________________\n",
    "                                                                    |   |\\__    ___/\\_   _____/ /   _____/\\_____  \\\n",
    "                                                                    |   |  |    |    |    __)_  \\_____  \\  /   |   \\\n",
    "                                                                    |   |  |    |    |        \\ /        \\/    |    \\\n",
    "                                                                    |___|  |____|   /_______  //_______  /\\_______  /\n",
    "                                                                                            \\/         \\/         \\/\n",
    "```\n",
    "<div class=\"alert alert-block alert-info\">\n",
    "<span style=\"color: rgb(0,53,91);\">\n",
    "<font face = \"Times New Roman\" size = \"6\"><b><center>Programacion para Mineria de Datos</center></b></font>\n",
    "<font face = \"Times New Roman\" size = \"5\"><b><center>EJERCICIO_2_NUMPY_ARRAY</center></b></font>\n",
    "\n",
    "<b><font back = \"Times New Roman\" size = \"4\"><center>Unidad 3: </center></font>\n",
    "\n",
    "<div align=\"right\"><font face = \"Times New Roman\" size = \"2\">Mtro. Miguel Tlapa Juarez (migueltlapa@iteso.mx)</font></div>\n",
    "</span></div>\n",
    "\n"
   ]
  },
  {
   "metadata": {},
   "cell_type": "markdown",
   "source": [
    "# Ejercicios Prácticos de NumPy: Arrays\n",
    "\n",
    "**Instrucciones:** Utiliza tus conocimientos de NumPy para resolver los siguientes problemas. Escribe el código necesario en las celdas correspondientes para obtener el resultado solicitado.\n"
   ]
  },
  {
   "cell_type": "markdown",
   "metadata": {},
   "source": [
    "### Sección 1: Creación de Arrays (`arange` y `linspace`)"
   ]
  },
  {
   "cell_type": "markdown",
   "metadata": {},
   "source": [
    "### Sección 1: Generación de Números Aleatorios\n",
    "\n",
    "1.  **Entero único:** Simula el lanzamiento de un dado de 6 caras. Genera un único número entero aleatorio entre 1 y 6 (ambos inclusive).\n",
    "2.  **Array de flotantes:** Crea un array de NumPy con 8 números flotantes aleatorios, donde cada número esté entre 0.0 y 1.0.\n",
    "3.  **Matriz de enteros:** Crea una matriz (array 2D) de 3x4 que contenga números enteros aleatorios entre 10 y 50 (sin incluir el 50)."
   ]
  },
  {
   "cell_type": "code",
   "execution_count": null,
   "metadata": {},
   "outputs": [],
   "source": [
    "import numpy as np\n",
    "# Espacio para tus respuestas de la Sección 1"
   ]
  },
  {
   "cell_type": "markdown",
   "metadata": {},
   "source": [
    "### Sección 2: Dimensiones y Forma (`ndim`, `shape` y `reshape`)"
   ]
  },
  {
   "cell_type": "markdown",
   "metadata": {},
   "source": [
    "1.  **Creación y análisis 2D:**\n",
    "    * Crea un array 2D (una matriz) de 3 filas y 4 columnas con los números del 0 al 11.\n",
    "    * Imprime la forma (`shape`) del array.\n",
    "    * Imprime el número de dimensiones (`ndim`) del array.\n",
    "2.  **Creación y análisis 3D:**\n",
    "    * Crea un array 3D de dimensiones (2, 3, 2) utilizando los números del 0 al 11.\n",
    "    * Imprime su forma y el número de dimensiones."
   ]
  },
  {
   "cell_type": "code",
   "execution_count": null,
   "metadata": {},
   "outputs": [],
   "source": [
    "# Espacio para tus respuestas de la Sección 2"
   ]
  },
  {
   "cell_type": "markdown",
   "metadata": {},
   "source": [
    "### Sección 3: Indexación y Slicing"
   ]
  },
  {
   "cell_type": "markdown",
   "metadata": {},
   "source": [
    "Para los siguientes ejercicios, utiliza el array `M` que se define en la celda de abajo:"
   ]
  },
  {
   "cell_type": "code",
   "execution_count": null,
   "metadata": {},
   "outputs": [],
   "source": [
    "M = np.arange(25).reshape(5, 5)\n",
    "print(\"Array M:\")\n",
    "print(M)"
   ]
  },
  {
   "cell_type": "markdown",
   "metadata": {},
   "source": [
    "1.  **Elemento específico:** Obtén el número `18` del array `M`.\n",
    "2.  **Fila completa:** Obtén la segunda fila completa del array `M` (la que contiene los números del 5 al 9).\n",
    "3.  **Columna completa:** Obtén la última columna del array `M` (la que contiene 4, 9, 14, 19, 24).\n",
    "4.  **Submatriz (Slicing 2D):** Obtén la submatriz que contiene los números:\n",
    "    ```\n",
    "    [[11, 12],\n",
    "     [16, 17]]\n",
    "    ```\n",
    "5.  **Slicing con pasos:** A partir de `M`, obtén el siguiente resultado saltando filas y columnas:\n",
    "    ```\n",
    "    [[ 0  2  4],\n",
    "     [10 12 14],\n",
    "     [20 22 24]]\n",
    "    ```"
   ]
  },
  {
   "cell_type": "code",
   "execution_count": null,
   "metadata": {},
   "outputs": [],
   "source": [
    "# Espacio para tus respuestas de la Sección 3"
   ]
  },
  {
   "cell_type": "markdown",
   "metadata": {},
   "source": [
    "### Sección 4: Vistas vs. Copias"
   ]
  },
  {
   "cell_type": "markdown",
   "metadata": {},
   "source": [
    "1.  **Predice el resultado:** Observa el siguiente código. ¿Qué se imprimirá al final? Explica brevemente por qué.\n",
    "    ```python\n",
    "    A = np.arange(10)\n",
    "    B = A[3:7]\n",
    "    B[0] = 99\n",
    "    print(A)\n",
    "    ```\n",
    "2.  **Soluciona el problema:** Modifica el código anterior utilizando `.copy()` para que al cambiar el valor en `B`, el array original `A` **no** se vea afectado."
   ]
  },
  {
   "cell_type": "code",
   "execution_count": null,
   "metadata": {},
   "outputs": [],
   "source": [
    "# Espacio para tus respuestas de la Sección 4"
   ]
  },
  {
   "cell_type": "markdown",
   "metadata": {},
   "source": [
    "### Sección 5: Creación de Arrays Especiales (`ones`, `zeros`, `identity`, `eye`)"
   ]
  },
  {
   "cell_type": "markdown",
   "metadata": {},
   "source": [
    "1.  **`zeros_like`:** Crea un array de ceros que tenga la misma forma y tipo de dato que la matriz `M` de la sección 3.\n",
    "2.  **`identity`:** Crea una matriz identidad de 4x4.\n",
    "3.  **`eye`:** Crea una matriz de 6x5 donde la diagonal de unos esté desplazada una posición hacia arriba."
   ]
  },
  {
   "cell_type": "code",
   "execution_count": null,
   "metadata": {},
   "outputs": [],
   "source": [
    "# Espacio para tus respuestas de la Sección 5"
   ]
  },
  {
   "cell_type": "markdown",
   "metadata": {},
   "source": [
    "### Pregunta Conceptual"
   ]
  },
  {
   "cell_type": "markdown",
   "metadata": {},
   "source": [
    "* Explica con tus propias palabras por qué la función `numpy_version()` del notebook es significativamente más rápida que `pure_python_version()`, a pesar de que ambas realizan la misma suma de vectores.\n",
    "\n",
    "*(Escribe tu respuesta aquí)*"
   ]
  },
  {
   "cell_type": "markdown",
   "metadata": {},
   "source": "### ⭐ Desafío"
  },
  {
   "cell_type": "markdown",
   "metadata": {},
   "source": [
    "* Crea una matriz `C` de 10x10 que contenga únicamente ceros. Luego, utilizando slicing, modifica la matriz `C` para que tenga un \"marco\" de unos."
   ]
  },
  {
   "cell_type": "code",
   "execution_count": null,
   "metadata": {},
   "outputs": [],
   "source": [
    "# Espacio para tu respuesta al desafío"
   ]
  }
 ],
 "metadata": {
  "kernelspec": {
   "display_name": "Python 3",
   "language": "python",
   "name": "python3"
  },
  "language_info": {
   "codemirror_mode": {
    "name": "ipython",
    "version": 3
   },
   "file_extension": ".py",
   "mimetype": "text/x-python",
   "name": "python",
   "nbconvert_exporter": "python",
   "pygments_lexer": "ipython3",
   "version": "3.9.12"
  }
 },
 "nbformat": 4,
 "nbformat_minor": 4
}
