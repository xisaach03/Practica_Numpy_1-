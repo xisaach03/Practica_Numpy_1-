{
 "cells": [
  {
   "cell_type": "markdown",
   "metadata": {},
   "source": [
    "```\n",
    "                                                                    .___ ______________________  _________________\n",
    "                                                                    |   |\\__    ___/\\_   _____/ /   _____/\\_____  \\\n",
    "                                                                    |   |  |    |    |    __)_  \\_____  \\  /   |   \\\n",
    "                                                                    |   |  |    |    |        \\ /        \\/    |    \\\n",
    "                                                                    |___|  |____|   /_______  //_______  /\\_______  /\n",
    "                                                                                            \\/         \\/         \\/\n",
    "```\n",
    "<div class=\"alert alert-block alert-info\">\n",
    "<span style=\"color: rgb(0,53,91);\">\n",
    "<font face = \"Times New Roman\" size = \"6\"><b><center>Programacion para Mineria de Datos</center></b></font>\n",
    "<font face = \"Times New Roman\" size = \"5\"><b><center>EJERCICIO_2_NUMPY_ARRAY</center></b></font>\n",
    "\n",
    "<b><font back = \"Times New Roman\" size = \"4\"><center>Unidad 3: </center></font>\n",
    "\n",
    "<div align=\"right\"><font face = \"Times New Roman\" size = \"2\">Mtro. Miguel Tlapa Juarez (migueltlapa@iteso.mx)</font></div>\n",
    "</span></div>\n",
    "\n"
   ]
  },
  {
   "cell_type": "markdown",
   "metadata": {},
   "source": [
    "# Ejercicios Prácticos de NumPy: Arrays\n",
    "\n",
    "**Instrucciones:** Utiliza tus conocimientos de NumPy para resolver los siguientes problemas. Escribe el código necesario en las celdas correspondientes para obtener el resultado solicitado.\n"
   ]
  },
  {
   "cell_type": "markdown",
   "metadata": {},
   "source": [
    "### Sección 1: Creación de Arrays (`arange` y `linspace`)"
   ]
  },
  {
   "cell_type": "markdown",
   "metadata": {},
   "source": [
    "### Sección 1: Generación de Números Aleatorios\n",
    "\n",
    "1.  **Entero único:** Simula el lanzamiento de un dado de 6 caras. Genera un único número entero aleatorio entre 1 y 6 (ambos inclusive).\n",
    "2.  **Array de flotantes:** Crea un array de NumPy con 8 números flotantes aleatorios, donde cada número esté entre 0.0 y 1.0.\n",
    "3.  **Matriz de enteros:** Crea una matriz (array 2D) de 3x4 que contenga números enteros aleatorios entre 10 y 50 (sin incluir el 50)."
   ]
  },
  {
   "cell_type": "code",
   "execution_count": null,
   "metadata": {},
   "outputs": [
    {
     "name": "stdout",
     "output_type": "stream",
     "text": [
      "1) Lanzamiento de dado (1–6): 1\n",
      "\n",
      "2) Array de 8 flotantes [0,1):\n",
      " [0.43887844 0.85859792 0.69736803 0.09417735 0.97562235 0.7611397\n",
      " 0.78606431 0.12811363]\n",
      "\n",
      "3) Matriz 3x4 de enteros [10,49]:\n",
      " [[40 43 28 30]\n",
      " [24 17 47 41]\n",
      " [35 26 42 31]]\n"
     ]
    }
   ],
   "source": [
    "import numpy as np\n",
    "\n",
    "rng = np.random.default_rng(seed=42)\n",
    "\n",
    "dado = rng.integers(1, 7)\n",
    "\n",
    "array_floats = rng.random(8)\n",
    "\n",
    "matriz_enteros = rng.integers(10, 50, size=(3, 4))\n",
    "\n",
    "print(\"1) Lanzamiento de dado (1–6):\", dado)\n",
    "print(\"\\n2) Array de 8 flotantes [0,1):\\n\", array_floats)\n",
    "print(\"\\n3) Matriz 3x4 de enteros [10,49]:\\n\", matriz_enteros)\n"
   ]
  },
  {
   "cell_type": "markdown",
   "metadata": {},
   "source": [
    "### Sección 2: Dimensiones y Forma (`ndim`, `shape` y `reshape`)"
   ]
  },
  {
   "cell_type": "markdown",
   "metadata": {},
   "source": [
    "1.  **Creación y análisis 2D:**\n",
    "    * Crea un array 2D (una matriz) de 3 filas y 4 columnas con los números del 0 al 11.\n",
    "    * Imprime la forma (`shape`) del array.\n",
    "    * Imprime el número de dimensiones (`ndim`) del array.\n",
    "2.  **Creación y análisis 3D:**\n",
    "    * Crea un array 3D de dimensiones (2, 3, 2) utilizando los números del 0 al 11.\n",
    "    * Imprime su forma y el número de dimensiones."
   ]
  },
  {
   "cell_type": "code",
   "execution_count": 8,
   "metadata": {},
   "outputs": [
    {
     "name": "stdout",
     "output_type": "stream",
     "text": [
      "Array 2D (3x4):\n",
      " [[ 0  1  2  3]\n",
      " [ 4  5  6  7]\n",
      " [ 8  9 10 11]]\n",
      "shape (2D): (3, 4)\n",
      "ndim (2D): 2\n",
      "\n",
      "Array 3D (2,3,2):\n",
      " [[[ 0  1]\n",
      "  [ 2  3]\n",
      "  [ 4  5]]\n",
      "\n",
      " [[ 6  7]\n",
      "  [ 8  9]\n",
      "  [10 11]]]\n",
      "shape (3D): (2, 3, 2)\n",
      "ndim (3D): 3\n"
     ]
    }
   ],
   "source": [
    "# Espacio para tus respuestas de la Sección 2\n",
    "import numpy as np\n",
    "\n",
    "# 1) Creación y análisis 2D\n",
    "arr2d = np.arange(12).reshape(3, 4)\n",
    "print(\"Array 2D (3x4):\\n\", arr2d)\n",
    "print(\"shape (2D):\", arr2d.shape)  # -> (3, 4)\n",
    "print(\"ndim (2D):\", arr2d.ndim)    # -> 2\n",
    "\n",
    "# 2) Creación y análisis 3D\n",
    "arr3d = np.arange(12).reshape(2, 3, 2)\n",
    "print(\"\\nArray 3D (2,3,2):\\n\", arr3d)\n",
    "print(\"shape (3D):\", arr3d.shape)  # -> (2, 3, 2)\n",
    "print(\"ndim (3D):\", arr3d.ndim)    # -> 3\n"
   ]
  },
  {
   "cell_type": "markdown",
   "metadata": {},
   "source": [
    "### Sección 3: Indexación y Slicing"
   ]
  },
  {
   "cell_type": "markdown",
   "metadata": {},
   "source": [
    "Para los siguientes ejercicios, utiliza el array `M` que se define en la celda de abajo:"
   ]
  },
  {
   "cell_type": "code",
   "execution_count": 9,
   "metadata": {},
   "outputs": [
    {
     "name": "stdout",
     "output_type": "stream",
     "text": [
      "Array M:\n",
      "[[ 0  1  2  3  4]\n",
      " [ 5  6  7  8  9]\n",
      " [10 11 12 13 14]\n",
      " [15 16 17 18 19]\n",
      " [20 21 22 23 24]]\n"
     ]
    }
   ],
   "source": [
    "M = np.arange(25).reshape(5, 5)\n",
    "print(\"Array M:\")\n",
    "print(M)"
   ]
  },
  {
   "cell_type": "markdown",
   "metadata": {},
   "source": [
    "1.  **Elemento específico:** Obtén el número `18` del array `M`.\n",
    "2.  **Fila completa:** Obtén la segunda fila completa del array `M` (la que contiene los números del 5 al 9).\n",
    "3.  **Columna completa:** Obtén la última columna del array `M` (la que contiene 4, 9, 14, 19, 24).\n",
    "4.  **Submatriz (Slicing 2D):** Obtén la submatriz que contiene los números:\n",
    "    ```\n",
    "    [[11, 12],\n",
    "     [16, 17]]\n",
    "    ```\n",
    "5.  **Slicing con pasos:** A partir de `M`, obtén el siguiente resultado saltando filas y columnas:\n",
    "    ```\n",
    "    [[ 0  2  4],\n",
    "     [10 12 14],\n",
    "     [20 22 24]]\n",
    "    ```"
   ]
  },
  {
   "cell_type": "code",
   "execution_count": null,
   "metadata": {},
   "outputs": [
    {
     "name": "stdout",
     "output_type": "stream",
     "text": [
      "Array M:\n",
      "[[ 0  1  2  3  4]\n",
      " [ 5  6  7  8  9]\n",
      " [10 11 12 13 14]\n",
      " [15 16 17 18 19]\n",
      " [20 21 22 23 24]]\n",
      "\n",
      "1) M[3, 3] = 18\n",
      "\n",
      "2) M[1, :] = [5 6 7 8 9]\n",
      "\n",
      "3) M[:, -1] = [ 4  9 14 19 24]\n",
      "\n",
      "4) M[2:4, 1:3] =\n",
      " [[11 12]\n",
      " [16 17]]\n",
      "\n",
      "5) M[::2, ::2] =\n",
      " [[ 0  2  4]\n",
      " [10 12 14]\n",
      " [20 22 24]]\n"
     ]
    }
   ],
   "source": [
    "# Espacio para tus respuestas de la Sección 3\n",
    "import numpy as np\n",
    "\n",
    "M = np.arange(25).reshape(5, 5)\n",
    "print(\"Array M:\")\n",
    "print(M)\n",
    "\n",
    "print(\"\\n1) M[3, 3] =\", M[3, 3])\n",
    "\n",
    "print(\"\\n2) M[1, :] =\", M[1, :])\n",
    "\n",
    "print(\"\\n3) M[:, -1] =\", M[:, -1])\n",
    "\n",
    "print(\"\\n4) M[2:4, 1:3] =\\n\", M[2:4, 1:3])\n",
    "\n",
    "print(\"\\n5) M[::2, ::2] =\\n\", M[::2, ::2])\n"
   ]
  },
  {
   "cell_type": "markdown",
   "metadata": {},
   "source": [
    "### Sección 4: Vistas vs. Copias"
   ]
  },
  {
   "cell_type": "markdown",
   "metadata": {},
   "source": [
    "1.  **Predice el resultado:** Observa el siguiente código. ¿Qué se imprimirá al final? Explica brevemente por qué.\n",
    "    ```python\n",
    "    A = np.arange(10)\n",
    "    B = A[3:7]\n",
    "    B[0] = 99\n",
    "    print(A)\n",
    "    ```\n",
    "    ***Respuesta :*** B = A[3:7] es un slice que devuelve una vista (no una copia) de A. Al hacer B[0] = 99, en realidad modificas A[3], porque ambos comparten el mismo buffer de memoria.\n",
    "2.  **Soluciona el problema:** Modifica el código anterior utilizando `.copy()` para que al cambiar el valor en `B`, el array original `A` **no** se vea afectado."
   ]
  },
  {
   "cell_type": "code",
   "execution_count": null,
   "metadata": {},
   "outputs": [
    {
     "name": "stdout",
     "output_type": "stream",
     "text": [
      "[0 1 2 3 4 5 6 7 8 9]\n",
      "[99  4  5  6]\n"
     ]
    }
   ],
   "source": [
    "# Espacio para tus respuestas de la Sección 4\n",
    "import numpy as np\n",
    "\n",
    "A = np.arange(10)\n",
    "B = A[3:7].copy()\n",
    "B[0] = 99\n",
    "\n",
    "print(A)\n",
    "print(B) \n"
   ]
  },
  {
   "cell_type": "markdown",
   "metadata": {},
   "source": [
    "### Sección 5: Creación de Arrays Especiales (`ones`, `zeros`, `identity`, `eye`)"
   ]
  },
  {
   "cell_type": "markdown",
   "metadata": {},
   "source": [
    "1.  **`zeros_like`:** Crea un array de ceros que tenga la misma forma y tipo de dato que la matriz `M` de la sección 3.\n",
    "2.  **`identity`:** Crea una matriz identidad de 4x4.\n",
    "3.  **`eye`:** Crea una matriz de 6x5 donde la diagonal de unos esté desplazada una posición hacia arriba."
   ]
  },
  {
   "cell_type": "code",
   "execution_count": null,
   "metadata": {},
   "outputs": [
    {
     "name": "stdout",
     "output_type": "stream",
     "text": [
      "1) zeros_like(M):\n",
      " [[0 0 0 0 0]\n",
      " [0 0 0 0 0]\n",
      " [0 0 0 0 0]\n",
      " [0 0 0 0 0]\n",
      " [0 0 0 0 0]]\n",
      "\n",
      "2) identity(4):\n",
      " [[1. 0. 0. 0.]\n",
      " [0. 1. 0. 0.]\n",
      " [0. 0. 1. 0.]\n",
      " [0. 0. 0. 1.]]\n",
      "\n",
      "3) eye(6, 5, k=1):\n",
      " [[0. 1. 0. 0. 0.]\n",
      " [0. 0. 1. 0. 0.]\n",
      " [0. 0. 0. 1. 0.]\n",
      " [0. 0. 0. 0. 1.]\n",
      " [0. 0. 0. 0. 0.]\n",
      " [0. 0. 0. 0. 0.]]\n"
     ]
    }
   ],
   "source": [
    "# Espacio para tus respuestas de la Sección 5\n",
    "import numpy as np\n",
    "\n",
    "M = np.arange(25).reshape(5, 5)\n",
    "\n",
    "zeros_M = np.zeros_like(M)\n",
    "\n",
    "I4 = np.identity(4)\n",
    "\n",
    "E_6x5 = np.eye(6, 5, k=1)\n",
    "\n",
    "print(\"1) ceros(M):\\n\", zeros_M)\n",
    "print(\"\\n2) identidad(4):\\n\", I4)\n",
    "print(\"\\n3) eye(6, 5, k=1):\\n\", E_6x5)\n"
   ]
  },
  {
   "cell_type": "markdown",
   "metadata": {},
   "source": [
    "### Pregunta Conceptual"
   ]
  },
  {
   "cell_type": "markdown",
   "metadata": {},
   "source": [
    "* Explica con tus propias palabras por qué la función `numpy_version()` del notebook es significativamente más rápida que `pure_python_version()`, a pesar de que ambas realizan la misma suma de vectores.\n",
    "\n",
    "*(Porque python es interpretado, y lo que pasa es que python va ejecutando linea por linea, esto hace que el interprete este verificando cada linea, tambien las variables pueden cambiar entre enteros o strings, entonces debe de hacer comparación en cada linea si no cambio, en cambio numpy corre en C que es un lenguaje mas estricto, y eficiente, esto quiere decir que hay que se crea con tipos fijos y memoria contigua.)*"
   ]
  },
  {
   "cell_type": "markdown",
   "metadata": {},
   "source": [
    "### ⭐ Desafío"
   ]
  },
  {
   "cell_type": "markdown",
   "metadata": {},
   "source": [
    "* Crea una matriz `C` de 10x10 que contenga únicamente ceros. Luego, utilizando slicing, modifica la matriz `C` para que tenga un \"marco\" de unos."
   ]
  },
  {
   "cell_type": "code",
   "execution_count": 26,
   "metadata": {},
   "outputs": [
    {
     "name": "stdout",
     "output_type": "stream",
     "text": [
      "[[1 1 1 1 1 1 1 1 1 1]\n",
      " [1 0 0 0 0 0 0 0 0 1]\n",
      " [1 0 0 0 0 0 0 0 0 1]\n",
      " [1 0 0 0 0 0 0 0 0 1]\n",
      " [1 0 0 0 0 0 0 0 0 1]\n",
      " [1 0 0 0 0 0 0 0 0 1]\n",
      " [1 0 0 0 0 0 0 0 0 1]\n",
      " [1 0 0 0 0 0 0 0 0 1]\n",
      " [1 0 0 0 0 0 0 0 0 1]\n",
      " [1 1 1 1 1 1 1 1 1 1]]\n"
     ]
    }
   ],
   "source": [
    "# Espacio para tu respuesta al desafío\n",
    "import numpy as np\n",
    "\n",
    "# 1) Crear matriz 10x10 de ceros (entera)\n",
    "C = np.zeros((10, 10), dtype=int)\n",
    "\n",
    "# 2) \"Marco\" de unos con slicing\n",
    "C[0, :]  = 1   # fila superior\n",
    "C[-1, :] = 1   # fila inferior\n",
    "C[:, 0]  = 1   # columna izquierda\n",
    "C[:, -1] = 1   # columna derecha\n",
    "\n",
    "print(C)\n"
   ]
  }
 ],
 "metadata": {
  "kernelspec": {
   "display_name": "Python 3",
   "language": "python",
   "name": "python3"
  },
  "language_info": {
   "codemirror_mode": {
    "name": "ipython",
    "version": 3
   },
   "file_extension": ".py",
   "mimetype": "text/x-python",
   "name": "python",
   "nbconvert_exporter": "python",
   "pygments_lexer": "ipython3",
   "version": "3.13.1"
  }
 },
 "nbformat": 4,
 "nbformat_minor": 4
}
