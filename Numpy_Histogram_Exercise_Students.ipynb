{
 "cells": [
  {
   "metadata": {
    "collapsed": true,
    "ExecuteTime": {
     "end_time": "2025-09-15T03:54:45.944095Z",
     "start_time": "2025-09-15T03:54:45.939558Z"
    }
   },
   "cell_type": "markdown",
   "source": [
    "```\n",
    "                                                                    .___ ______________________  _________________\n",
    "                                                                    |   |\\__    ___/\\_   _____/ /   _____/\\_____  \\\n",
    "                                                                    |   |  |    |    |    __)_  \\_____  \\  /   |   \\\n",
    "                                                                    |   |  |    |    |        \\ /        \\/    |    \\\n",
    "                                                                    |___|  |____|   /_______  //_______  /\\_______  /\n",
    "                                                                                            \\/         \\/         \\/\n",
    "```\n",
    "<div class=\"alert alert-block alert-info\">\n",
    "<span style=\"color: rgb(0,53,91);\">\n",
    "<font face = \"Times New Roman\" size = \"6\"><b><center>Programacion para Mineria de Datos</center></b></font>\n",
    "<font face = \"Times New Roman\" size = \"5\"><b><center>EJERCICIO_NUMPY_HISTOGRAM</center></b></font>\n",
    "\n",
    "<b><font back = \"Times New Roman\" size = \"4\"><center>Unidad 3: </center></font>\n",
    "<font face = \"Times New Roman\" size = \"4\"><center>Tema 3.2.1: Numpy</center></font>\n",
    "<div align=\"right\"><font face = \"Times New Roman\" size = \"2\">Mtro. Miguel Tlapa Juarez (migueltlapa@iteso.mx)</font></div>\n",
    "</span></div>"
   ],
   "id": "6fd8fba279cdb8"
  },
  {
   "metadata": {
    "ExecuteTime": {
     "end_time": "2025-09-15T03:54:55.081433Z",
     "start_time": "2025-09-15T03:54:55.072029Z"
    }
   },
   "cell_type": "markdown",
   "source": [
    "# Ejercicios Prácticos: Histogramas con NumPy y Matplotlib\n",
    "\n",
    "**Instrucciones:** Utiliza tus conocimientos de NumPy y Matplotlib para generar y personalizar los siguientes histogramas. Escribe tu código en las celdas designadas."
   ],
   "id": "cc951015f57889a4"
  },
  {
   "metadata": {},
   "cell_type": "markdown",
   "source": [
    "### Sección 1: Creación de Datos y Histograma Básico\n",
    "\n",
    "Para esta sección, trabajaremos con datos que siguen una distribución uniforme.\n",
    "\n",
    "1.  **Generar Datos:** Crea un array de NumPy llamado `datos_uniformes` con 5000 números aleatorios que sigan una distribución uniforme entre 0 y 100. (Pista: `np.random.uniform`).\n",
    "2.  **Crear Histograma:** Genera un histograma básico utilizando los `datos_uniformes`.\n",
    "3.  **Añadir Etiquetas:** Dale formato a tu gráfico añadiendo un título que diga \"Histograma de Distribución Uniforme\", una etiqueta para el eje X que diga \"Valores\" y una para el eje Y que diga \"Frecuencia\"."
   ],
   "id": "b54060e3cdf5f59e"
  },
  {
   "metadata": {
    "ExecuteTime": {
     "end_time": "2025-09-15T03:55:35.847937Z",
     "start_time": "2025-09-15T03:55:35.478932Z"
    }
   },
   "cell_type": "code",
   "source": [
    "import matplotlib.pyplot as plt\n",
    "import numpy as np\n",
    "\n",
    "# Espacio para tus respuestas de la Sección 1"
   ],
   "id": "292715514c0dc71a",
   "outputs": [],
   "execution_count": 3
  },
  {
   "metadata": {},
   "cell_type": "markdown",
   "source": [
    "### Sección 2: Personalización del Histograma\n",
    "\n",
    "Ahora vamos a tomar los mismos datos de la sección anterior y a darle un mejor estilo al gráfico.\n",
    "\n",
    "1.  **Controlar los Bins:** Crea un nuevo histograma de los `datos_uniformes`, pero esta vez, especifica que debe tener exactamente 50 `bins` (barras).\n",
    "2.  **Cambiar Colores:** Modifica el histograma para que las barras sean de color `skyblue` (azul cielo) y tengan un borde de color `black` (negro).\n",
    "3.  **Añadir Rejilla (Grid):** Añade una rejilla (grid) únicamente en el eje Y. El estilo de la línea debe ser discontinuo (`--`) y debe tener una transparencia (`alpha`) de 0.6."
   ],
   "id": "5d887333d9f83570"
  },
  {
   "metadata": {
    "ExecuteTime": {
     "end_time": "2025-09-15T03:56:00.110357Z",
     "start_time": "2025-09-15T03:56:00.107816Z"
    }
   },
   "cell_type": "code",
   "source": [
    "# Utiliza los mismos datos 'datos_uniformes' de la sección anterior.\n",
    "\n",
    "# Espacio para tus respuestas de la Sección 2"
   ],
   "id": "7242387eaf2345a4",
   "outputs": [],
   "execution_count": 4
  },
  {
   "metadata": {
    "ExecuteTime": {
     "end_time": "2025-09-15T03:56:17.078135Z",
     "start_time": "2025-09-15T03:56:17.068186Z"
    }
   },
   "cell_type": "markdown",
   "source": [
    "### ⭐ Desafío\n",
    "\n",
    "En este desafío, compararás dos distribuciones diferentes en el mismo gráfico.\n",
    "\n",
    "1.  **Generar Datos:**\n",
    "    * Crea un array llamado `datos_normales` con 10,000 números que sigan una distribución normal (gaussiana) con una media de 50 y una desviación estándar de 15. (Pista: `np.random.normal(loc=50, scale=15, size=10000)`).\n",
    "    * Crea otro array llamado `datos_exponenciales` con 10,000 números que sigan una distribución exponencial. (Pista: `np.random.exponential(scale=25, size=10000)`).\n",
    "2.  **Graficar Ambos Histogramas:**\n",
    "    * En la misma figura, grafica el histograma de `datos_normales` y el de `datos_exponenciales`.\n",
    "    * Usa 40 `bins` para ambos.\n",
    "    * Asigna un `label` a cada histograma (ej. \"Normal\" y \"Exponencial\").\n",
    "    * Usa colores diferentes para cada uno y una transparencia (`alpha`) de 0.7 para que se puedan ver ambos.\n",
    "3.  **Mostrar Leyenda:** No olvides añadir la leyenda (`legend`) al gráfico para identificar cada distribución."
   ],
   "id": "41ee69067f11825c"
  },
  {
   "metadata": {
    "ExecuteTime": {
     "end_time": "2025-09-15T03:56:32.087784Z",
     "start_time": "2025-09-15T03:56:32.084248Z"
    }
   },
   "cell_type": "code",
   "source": "# Espacio para tu respuesta al desafío",
   "id": "6032eef49539be76",
   "outputs": [],
   "execution_count": 6
  },
  {
   "metadata": {},
   "cell_type": "code",
   "outputs": [],
   "execution_count": null,
   "source": "",
   "id": "ca71ccb401764765"
  }
 ],
 "metadata": {
  "kernelspec": {
   "display_name": "Python 3",
   "language": "python",
   "name": "python3"
  },
  "language_info": {
   "codemirror_mode": {
    "name": "ipython",
    "version": 2
   },
   "file_extension": ".py",
   "mimetype": "text/x-python",
   "name": "python",
   "nbconvert_exporter": "python",
   "pygments_lexer": "ipython2",
   "version": "2.7.6"
  }
 },
 "nbformat": 4,
 "nbformat_minor": 5
}
