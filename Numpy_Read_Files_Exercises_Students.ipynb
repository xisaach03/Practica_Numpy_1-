{
 "cells": [
  {
   "metadata": {
    "collapsed": true,
    "ExecuteTime": {
     "end_time": "2025-09-15T03:30:49.502887Z",
     "start_time": "2025-09-15T03:30:49.498725Z"
    }
   },
   "cell_type": "markdown",
   "source": [
    "```\n",
    "                                                                    .___ ______________________  _________________\n",
    "                                                                    |   |\\__    ___/\\_   _____/ /   _____/\\_____  \\\n",
    "                                                                    |   |  |    |    |    __)_  \\_____  \\  /   |   \\\n",
    "                                                                    |   |  |    |    |        \\ /        \\/    |    \\\n",
    "                                                                    |___|  |____|   /_______  //_______  /\\_______  /\n",
    "                                                                                            \\/         \\/         \\/\n",
    "```\n",
    "<div class=\"alert alert-block alert-info\">\n",
    "<span style=\"color: rgb(0,53,91);\">\n",
    "<font face = \"Times New Roman\" size = \"6\"><b><center>Programacion para Mineria de Datos</center></b></font>\n",
    "<font face = \"Times New Roman\" size = \"5\"><b><center>EJERCICIO_NUMPY_READ_FILES</center></b></font>\n",
    "\n",
    "<b><font back = \"Times New Roman\" size = \"4\"><center>Unidad 3: </center></font>\n",
    "\n",
    "<div align=\"right\"><font face = \"Times New Roman\" size = \"2\">Mtro. Miguel Tlapa Juarez (migueltlapa@iteso.mx)</font></div>\n",
    "</span></div>"
   ],
   "id": "816dce1bd31cb22b"
  },
  {
   "metadata": {},
   "cell_type": "markdown",
   "source": [
    "# Ejercicios Prácticos de NumPy: Lectura y Escritura de Archivos\n",
    "\n",
    "**Instrucciones:** Utiliza tus conocimientos de NumPy para resolver los siguientes problemas de manipulación de archivos. Escribe el código necesario en las celdas correspondientes."
   ],
   "id": "3d75f169ae3212e0"
  },
  {
   "metadata": {},
   "cell_type": "markdown",
   "source": "### Sección 1: Guardar y Cargar Archivos de Texto (`savetxt`, `loadtxt`, `genfromtxt`)",
   "id": "d1b71b4afd173b0a"
  },
  {
   "metadata": {
    "ExecuteTime": {
     "end_time": "2025-09-16T17:46:09.676871Z",
     "start_time": "2025-09-16T17:46:08.515801Z"
    }
   },
   "cell_type": "code",
   "source": [
    "import numpy as np\n",
    "\n",
    "# Este es el array que usaremos para los primeros ejercicios.\n",
    "mi_array = np.array([[5, 10, 15], [20, 25, 30], [35, 40, 45]])\n",
    "print(\"Array original:\")\n",
    "print(mi_array)"
   ],
   "id": "d567f22961921ac4",
   "outputs": [
    {
     "name": "stdout",
     "output_type": "stream",
     "text": [
      "Array original:\n",
      "[[ 5 10 15]\n",
      " [20 25 30]\n",
      " [35 40 45]]\n"
     ]
    }
   ],
   "execution_count": 1
  },
  {
   "metadata": {},
   "cell_type": "markdown",
   "source": [
    "1.  **Guardado simple:** Guarda el `mi_array` en un archivo de texto llamado `mi_matriz.txt` con el formato estándar.\n",
    "2.  **Carga simple:** Carga los datos del archivo `mi_matriz.txt` en una nueva variable llamada `matriz_cargada` y muéstrala en pantalla para verificar que se leyó correctamente.\n",
    "3.  **Guardado con formato:** Guarda de nuevo `mi_array`, pero esta vez en un archivo llamado `matriz_formateada.csv`. Utiliza una coma (`,`) como delimitador y formatea los números como enteros de 3 dígitos con ceros a la izquierda (por ejemplo, `5` debe guardarse como `005`).\n",
    "4.  **Carga selectiva:** Utilizando `np.genfromtxt`, carga los datos de `matriz_formateada.csv`, pero esta vez, lee únicamente la **primera y la última columna**."
   ],
   "id": "5d07dec8d130ba77"
  },
  {
   "metadata": {
    "ExecuteTime": {
     "end_time": "2025-09-16T18:52:31.864733Z",
     "start_time": "2025-09-16T18:52:31.853083Z"
    }
   },
   "cell_type": "code",
   "source": [
    "# Espacio para tus respuestas de la Sección 1\n",
    "\n",
    "# Guardado simple\n",
    "np.savetxt(\"Generated_Files/mi_matriz.txt\", mi_array)\n",
    "# Carga simple\n",
    "matriz_cargada = np.loadtxt(\"Generated_Files/mi_matriz.txt\")\n",
    "print(f\"Matriz leida:\\n{matriz_cargada}\")\n",
    "# Guardado con formato\n",
    "np.savetxt(\"Generated_Files/matrix_formateada.csv\", mi_array, delimiter=',')\n",
    "# Carga selectiva\n",
    "matriz_formateada_csv = np.genfromtxt(\"Generated_Files/matrix_formateada.csv\", delimiter=',', usecols=(0, 2))\n",
    "print(f\"Matriz formateada CSV:\\n{matriz_formateada_csv}\")"
   ],
   "id": "ecb17aa53e861086",
   "outputs": [
    {
     "name": "stdout",
     "output_type": "stream",
     "text": [
      "Matriz leida:\n",
      "[[ 5. 10. 15.]\n",
      " [20. 25. 30.]\n",
      " [35. 40. 45.]]\n",
      "Matriz formateada CSV:\n",
      "[[ 5. 15.]\n",
      " [20. 30.]\n",
      " [35. 45.]]\n"
     ]
    }
   ],
   "execution_count": 10
  },
  {
   "metadata": {
    "ExecuteTime": {
     "end_time": "2025-09-15T03:32:04.910768Z",
     "start_time": "2025-09-15T03:32:04.905403Z"
    }
   },
   "cell_type": "markdown",
   "source": [
    "### Sección 2: Trabajar con Archivos Binarios (`tofile`, `fromfile`)\n",
    "\n",
    "Los archivos binarios son más eficientes para almacenar datos numéricos, aunque no son legibles por humanos."
   ],
   "id": "9ab5c568aff2d2f4"
  },
  {
   "metadata": {
    "ExecuteTime": {
     "end_time": "2025-09-15T03:32:19.836444Z",
     "start_time": "2025-09-15T03:32:19.828777Z"
    },
    "SqlCellData": {
     "variableName$1": "df_sql1"
    }
   },
   "cell_type": "markdown",
   "source": [
    "1.  **Guardado binario:** Crea un array de NumPy con los números del 0 al 19. Guarda este array en un archivo binario llamado `datos.bin`.\n",
    "2.  **Lectura binaria:** Lee los datos del archivo `datos.bin` y cárgalos en una nueva variable.\n",
    "3.  **Importante:** Recuerda que al leer un archivo binario con `np.fromfile`, debes especificar el `dtype` (tipo de dato) con el que se guardaron los datos."
   ],
   "id": "1e2953c42557a2b5"
  },
  {
   "metadata": {
    "ExecuteTime": {
     "end_time": "2025-09-16T18:51:13.078322Z",
     "start_time": "2025-09-16T18:51:13.066057Z"
    }
   },
   "cell_type": "code",
   "source": [
    "# Espacio para tus respuestas de la Sección 2\n",
    "\n",
    "# Guardado binario\n",
    "datos_bin = np.arange(20, dtype=np.int8)\n",
    "print(f\"Datos binario: {datos_bin}\\nTipo de dato: {datos_bin.dtype}\")\n",
    "datos_bin.tofile('./Generated_Files/datos.bin')\n",
    "\n",
    "# Lectura binaria\n",
    "datos_leidos = np.fromfile('Generated_Files/datos.bin', dtype=np.int8)\n",
    "print(f\"Datos binarios leidos:\\n{datos_leidos}\\nTipo de dato: {datos_leidos.dtype}\")"
   ],
   "id": "ce69e4316a0a9a30",
   "outputs": [
    {
     "name": "stdout",
     "output_type": "stream",
     "text": [
      "Datos binario: [ 0  1  2  3  4  5  6  7  8  9 10 11 12 13 14 15 16 17 18 19]\n",
      "Tipo de dato: int8\n",
      "Datos binarios leidos:\n",
      "[ 0  1  2  3  4  5  6  7  8  9 10 11 12 13 14 15 16 17 18 19]\n",
      "Tipo de dato: int8\n"
     ]
    }
   ],
   "execution_count": 8
  },
  {
   "metadata": {},
   "cell_type": "markdown",
   "source": [
    "### Sección 3: Guardar Objetos con `pickle`\n",
    "\n",
    "Pickle es una forma de guardar objetos completos de Python (incluyendo arrays de NumPy) en un archivo."
   ],
   "id": "dbeea819778be3a7"
  },
  {
   "metadata": {},
   "cell_type": "markdown",
   "source": [
    "1.  **Guardar con `pickle`:** Crea una matriz de NumPy de 2x2 con los números que prefieras. Utiliza el módulo `pickle` para guardar este objeto en un archivo llamado `mi_pickle.pkl`.\n",
    "2.  **Cargar con `pickle`:** Carga el objeto desde `mi_pickle.pkl` en una nueva variable. Imprime la variable y su tipo (`type()`) para verificar que se ha recuperado el array de NumPy correctamente."
   ],
   "id": "9050eee5275592ca"
  },
  {
   "metadata": {
    "ExecuteTime": {
     "end_time": "2025-09-16T18:49:48.445011Z",
     "start_time": "2025-09-16T18:49:48.433738Z"
    }
   },
   "cell_type": "code",
   "source": [
    "# Espacio para tus respuestas de la Sección 3\n",
    "import pickle\n",
    "\n",
    "# Guardar con pickle\n",
    "arr_pickle = np.arange(4, dtype=np.int8).reshape(2,2)\n",
    "print(f\"Matriz genereda:\\n{arr_pickle}\")\n",
    "\n",
    "with open(\"./Generated_Files/mi_pickle.pkl\", 'wb') as file:\n",
    "    pickle.dump(arr_pickle,file)\n",
    "\n",
    "# Cargar con pickle\n",
    "with open(\"./Generated_Files/mi_pickle.pkl\", 'rb') as file:\n",
    "    loaded = pickle.load(file)\n",
    "print(f\"Variable cargada:\\n{loaded}\")\n",
    "print(f\"Tipo de la variable: {type(loaded)}\")"
   ],
   "id": "71e70e8aa52ea790",
   "outputs": [
    {
     "name": "stdout",
     "output_type": "stream",
     "text": [
      "Matriz genereda:\n",
      "[[0 1]\n",
      " [2 3]]\n",
      "Variable cargada:\n",
      "[[0 1]\n",
      " [2 3]]\n",
      "Tipo de la variable: <class 'numpy.ndarray'>\n"
     ]
    }
   ],
   "execution_count": 7
  },
  {
   "metadata": {},
   "cell_type": "code",
   "outputs": [],
   "execution_count": null,
   "source": "",
   "id": "7ce35c81bb2881b9"
  }
 ],
 "metadata": {
  "kernelspec": {
   "display_name": "Python 3",
   "language": "python",
   "name": "python3"
  },
  "language_info": {
   "codemirror_mode": {
    "name": "ipython",
    "version": 2
   },
   "file_extension": ".py",
   "mimetype": "text/x-python",
   "name": "python",
   "nbconvert_exporter": "python",
   "pygments_lexer": "ipython2",
   "version": "2.7.6"
  }
 },
 "nbformat": 4,
 "nbformat_minor": 5
}
