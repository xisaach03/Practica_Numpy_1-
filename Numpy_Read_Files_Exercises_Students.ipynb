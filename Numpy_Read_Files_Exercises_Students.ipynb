{
 "cells": [
  {
   "metadata": {
    "collapsed": true,
    "ExecuteTime": {
     "end_time": "2025-09-15T03:30:49.502887Z",
     "start_time": "2025-09-15T03:30:49.498725Z"
    }
   },
   "cell_type": "markdown",
   "source": [
    "```\n",
    "                                                                    .___ ______________________  _________________\n",
    "                                                                    |   |\\__    ___/\\_   _____/ /   _____/\\_____  \\\n",
    "                                                                    |   |  |    |    |    __)_  \\_____  \\  /   |   \\\n",
    "                                                                    |   |  |    |    |        \\ /        \\/    |    \\\n",
    "                                                                    |___|  |____|   /_______  //_______  /\\_______  /\n",
    "                                                                                            \\/         \\/         \\/\n",
    "```\n",
    "<div class=\"alert alert-block alert-info\">\n",
    "<span style=\"color: rgb(0,53,91);\">\n",
    "<font face = \"Times New Roman\" size = \"6\"><b><center>Programacion para Mineria de Datos</center></b></font>\n",
    "<font face = \"Times New Roman\" size = \"5\"><b><center>EJERCICIO_NUMPY_READ_FILES</center></b></font>\n",
    "\n",
    "<b><font back = \"Times New Roman\" size = \"4\"><center>Unidad 3: </center></font>\n",
    "\n",
    "<div align=\"right\"><font face = \"Times New Roman\" size = \"2\">Mtro. Miguel Tlapa Juarez (migueltlapa@iteso.mx)</font></div>\n",
    "</span></div>"
   ],
   "id": "816dce1bd31cb22b"
  },
  {
   "metadata": {},
   "cell_type": "markdown",
   "source": [
    "# Ejercicios Prácticos de NumPy: Lectura y Escritura de Archivos\n",
    "\n",
    "**Instrucciones:** Utiliza tus conocimientos de NumPy para resolver los siguientes problemas de manipulación de archivos. Escribe el código necesario en las celdas correspondientes."
   ],
   "id": "3d75f169ae3212e0"
  },
  {
   "metadata": {},
   "cell_type": "markdown",
   "source": "### Sección 1: Guardar y Cargar Archivos de Texto (`savetxt`, `loadtxt`, `genfromtxt`)",
   "id": "d1b71b4afd173b0a"
  },
  {
   "metadata": {
    "ExecuteTime": {
     "end_time": "2025-09-15T03:31:28.520376Z",
     "start_time": "2025-09-15T03:31:28.449688Z"
    }
   },
   "cell_type": "code",
   "source": [
    "import numpy as np\n",
    "\n",
    "# Este es el array que usaremos para los primeros ejercicios.\n",
    "mi_array = np.array([[5, 10, 15], [20, 25, 30], [35, 40, 45]])\n",
    "print(\"Array original:\")\n",
    "print(mi_array)"
   ],
   "id": "d567f22961921ac4",
   "outputs": [
    {
     "name": "stdout",
     "output_type": "stream",
     "text": [
      "Array original:\n",
      "[[ 5 10 15]\n",
      " [20 25 30]\n",
      " [35 40 45]]\n"
     ]
    }
   ],
   "execution_count": 2
  },
  {
   "metadata": {},
   "cell_type": "markdown",
   "source": [
    "1.  **Guardado simple:** Guarda el `mi_array` en un archivo de texto llamado `mi_matriz.txt` con el formato estándar.\n",
    "2.  **Carga simple:** Carga los datos del archivo `mi_matriz.txt` en una nueva variable llamada `matriz_cargada` y muéstrala en pantalla para verificar que se leyó correctamente.\n",
    "3.  **Guardado con formato:** Guarda de nuevo `mi_array`, pero esta vez en un archivo llamado `matriz_formateada.csv`. Utiliza una coma (`,`) como delimitador y formatea los números como enteros de 3 dígitos con ceros a la izquierda (por ejemplo, `5` debe guardarse como `005`).\n",
    "4.  **Carga selectiva:** Utilizando `np.genfromtxt`, carga los datos de `matriz_formateada.csv`, pero esta vez, lee únicamente la **primera y la última columna**."
   ],
   "id": "5d07dec8d130ba77"
  },
  {
   "metadata": {
    "ExecuteTime": {
     "end_time": "2025-09-15T03:31:57.774033Z",
     "start_time": "2025-09-15T03:31:57.771340Z"
    }
   },
   "cell_type": "code",
   "source": "# Espacio para tus respuestas de la Sección 1",
   "id": "ecb17aa53e861086",
   "outputs": [],
   "execution_count": 3
  },
  {
   "metadata": {
    "ExecuteTime": {
     "end_time": "2025-09-15T03:32:04.910768Z",
     "start_time": "2025-09-15T03:32:04.905403Z"
    }
   },
   "cell_type": "markdown",
   "source": [
    "### Sección 2: Trabajar con Archivos Binarios (`tofile`, `fromfile`)\n",
    "\n",
    "Los archivos binarios son más eficientes para almacenar datos numéricos, aunque no son legibles por humanos."
   ],
   "id": "9ab5c568aff2d2f4"
  },
  {
   "metadata": {
    "ExecuteTime": {
     "end_time": "2025-09-15T03:32:19.836444Z",
     "start_time": "2025-09-15T03:32:19.828777Z"
    },
    "SqlCellData": {
     "variableName$1": "df_sql1"
    }
   },
   "cell_type": "markdown",
   "source": [
    "1.  **Guardado binario:** Crea un array de NumPy con los números del 0 al 19. Guarda este array en un archivo binario llamado `datos.bin`.\n",
    "2.  **Lectura binaria:** Lee los datos del archivo `datos.bin` y cárgalos en una nueva variable.\n",
    "3.  **Importante:** Recuerda que al leer un archivo binario con `np.fromfile`, debes especificar el `dtype` (tipo de dato) con el que se guardaron los datos."
   ],
   "id": "1e2953c42557a2b5"
  },
  {
   "metadata": {
    "ExecuteTime": {
     "end_time": "2025-09-15T03:33:00.825112Z",
     "start_time": "2025-09-15T03:33:00.819894Z"
    }
   },
   "cell_type": "code",
   "source": "# Espacio para tus respuestas de la Sección 2",
   "id": "ce69e4316a0a9a30",
   "outputs": [],
   "execution_count": 6
  },
  {
   "metadata": {},
   "cell_type": "markdown",
   "source": [
    "### Sección 3: Guardar Objetos con `pickle`\n",
    "\n",
    "Pickle es una forma de guardar objetos completos de Python (incluyendo arrays de NumPy) en un archivo."
   ],
   "id": "dbeea819778be3a7"
  },
  {
   "metadata": {},
   "cell_type": "markdown",
   "source": [
    "1.  **Guardar con `pickle`:** Crea una matriz de NumPy de 2x2 con los números que prefieras. Utiliza el módulo `pickle` para guardar este objeto en un archivo llamado `mi_pickle.pkl`.\n",
    "2.  **Cargar con `pickle`:** Carga el objeto desde `mi_pickle.pkl` en una nueva variable. Imprime la variable y su tipo (`type()`) para verificar que se ha recuperado el array de NumPy correctamente."
   ],
   "id": "9050eee5275592ca"
  },
  {
   "metadata": {
    "ExecuteTime": {
     "end_time": "2025-09-15T03:33:35.276431Z",
     "start_time": "2025-09-15T03:33:35.271989Z"
    }
   },
   "cell_type": "code",
   "source": "# Espacio para tus respuestas de la Sección 3",
   "id": "71e70e8aa52ea790",
   "outputs": [],
   "execution_count": 7
  },
  {
   "metadata": {},
   "cell_type": "code",
   "outputs": [],
   "execution_count": null,
   "source": "",
   "id": "7ce35c81bb2881b9"
  }
 ],
 "metadata": {
  "kernelspec": {
   "display_name": "Python 3",
   "language": "python",
   "name": "python3"
  },
  "language_info": {
   "codemirror_mode": {
    "name": "ipython",
    "version": 2
   },
   "file_extension": ".py",
   "mimetype": "text/x-python",
   "name": "python",
   "nbconvert_exporter": "python",
   "pygments_lexer": "ipython2",
   "version": "2.7.6"
  }
 },
 "nbformat": 4,
 "nbformat_minor": 5
}
