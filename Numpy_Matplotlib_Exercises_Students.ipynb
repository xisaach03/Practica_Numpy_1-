{
 "cells": [
  {
   "metadata": {
    "collapsed": true,
    "ExecuteTime": {
     "end_time": "2025-09-15T03:36:42.551909Z",
     "start_time": "2025-09-15T03:36:42.545145Z"
    }
   },
   "cell_type": "markdown",
   "source": [
    "```\n",
    "                                                                    .___ ______________________  _________________\n",
    "                                                                    |   |\\__    ___/\\_   _____/ /   _____/\\_____  \\\n",
    "                                                                    |   |  |    |    |    __)_  \\_____  \\  /   |   \\\n",
    "                                                                    |   |  |    |    |        \\ /        \\/    |    \\\n",
    "                                                                    |___|  |____|   /_______  //_______  /\\_______  /\n",
    "                                                                                            \\/         \\/         \\/\n",
    "```\n",
    "<div class=\"alert alert-block alert-info\">\n",
    "<span style=\"color: rgb(0,53,91);\">\n",
    "<font face = \"Times New Roman\" size = \"6\"><b><center>Programacion para Mineria de Datos</center></b></font>\n",
    "<font face = \"Times New Roman\" size = \"5\"><b><center>EJERCICIO_NUMPY_MATPLOTLIB</center></b></font>\n",
    "\n",
    "<b><font back = \"Times New Roman\" size = \"4\"><center>Unidad 3: </center></font>\n",
    "\n",
    "<div align=\"right\"><font face = \"Times New Roman\" size = \"2\">Mtro. Miguel Tlapa Juarez (migueltlapa@iteso.mx)</font></div>\n",
    "</span></div>"
   ],
   "id": "8271d39dae92e402"
  },
  {
   "metadata": {},
   "cell_type": "markdown",
   "source": [
    "# Ejercicios Prácticos: Visualización con NumPy y Matplotlib\n",
    "\n",
    "**Instrucciones:** Utiliza tus conocimientos de NumPy y Matplotlib para resolver los siguientes problemas de visualización. Escribe el código necesario en las celdas correspondientes para generar los gráficos solicitados."
   ],
   "id": "a6d1878f0cf0cb06"
  },
  {
   "metadata": {},
   "cell_type": "markdown",
   "source": [
    "### Sección 1: Gráfico Básico\n",
    "\n",
    "1.  Usando los siguientes datos de ventas, genera un gráfico de líneas simple."
   ],
   "id": "92f3e2d2c283ccbd"
  },
  {
   "metadata": {
    "ExecuteTime": {
     "end_time": "2025-09-15T03:38:21.760750Z",
     "start_time": "2025-09-15T03:38:21.150852Z"
    }
   },
   "cell_type": "code",
   "source": [
    "import matplotlib.pyplot as plt\n",
    "import numpy as np\n",
    "\n",
    "ventas_mensuales = [150, 175, 201, 198, 240, 265, 290, 310, 299, 340, 370, 405]\n",
    "\n",
    "# Espacio para tu respuesta de la Sección 1\n",
    "# Crea el gráfico aquí"
   ],
   "id": "c7eb541217a2bd1f",
   "outputs": [],
   "execution_count": 2
  },
  {
   "metadata": {},
   "cell_type": "markdown",
   "source": [
    "### Sección 2: Gráfico con Ejes X y Y, Etiquetas y Estilo\n",
    "\n",
    "1.  Ahora, usa los siguientes datos para graficar la temperatura (eje Y) contra los meses del año (eje X).\n",
    "2.  Personaliza el gráfico de la siguiente manera:\n",
    "    * Añade una etiqueta al eje X que diga \"Mes del Año\".\n",
    "    * Añade una etiqueta al eje Y que diga \"Temperatura (°C)\".\n",
    "    * Añade un título que diga \"Temperatura Promedio Mensual\".\n",
    "    * Cambia el color de la línea a verde (`green`).\n",
    "    * Usa un estilo de línea punteada (`:`).\n",
    "    * Añade marcadores de estrella (`*`) en cada punto de dato."
   ],
   "id": "4b43ca3d80a6eb26"
  },
  {
   "metadata": {
    "ExecuteTime": {
     "end_time": "2025-09-15T03:39:19.463939Z",
     "start_time": "2025-09-15T03:39:19.461004Z"
    }
   },
   "cell_type": "code",
   "source": [
    "meses = np.arange(1, 13)\n",
    "temperaturas = [5.4, 6.1, 9.5, 12.3, 16.5, 20.1, 22.7, 22.1, 18.4, 13.5, 8.2, 5.9]\n",
    "\n",
    "# Espacio para tu respuesta de la Sección 2"
   ],
   "id": "47ead22421576cc8",
   "outputs": [],
   "execution_count": 4
  },
  {
   "metadata": {
    "ExecuteTime": {
     "end_time": "2025-09-15T03:39:28.197074Z",
     "start_time": "2025-09-15T03:39:28.193157Z"
    }
   },
   "cell_type": "markdown",
   "source": [
    "### Sección 3: Múltiples Gráficos y Leyenda\n",
    "\n",
    "1.  En un solo gráfico, visualiza los datos de Ingresos y Gastos a lo largo de los meses.\n",
    "2.  Personaliza el gráfico:\n",
    "    * La línea de Ingresos debe ser de color azul (`blue`) y continua.\n",
    "    * La línea de Gastos debe ser de color rojo (`red`) y discontinua (`--`).\n",
    "    * Añade etiquetas a cada línea (`label`).\n",
    "    * Muestra una leyenda (`legend`) en la esquina superior izquierda (`upper left`).\n",
    "    * Define los límites del eje Y para que vayan de 1500 a 6500."
   ],
   "id": "b1867a69b4e53e72"
  },
  {
   "metadata": {
    "ExecuteTime": {
     "end_time": "2025-09-15T03:39:44.266371Z",
     "start_time": "2025-09-15T03:39:44.263574Z"
    }
   },
   "cell_type": "code",
   "source": [
    "meses = np.arange(1, 13)\n",
    "ingresos = [2500, 2800, 3100, 3000, 3400, 3800, 4200, 4100, 3700, 3500, 3900, 4500]\n",
    "gastos = [2200, 2300, 2500, 2400, 2600, 2700, 2900, 2800, 2600, 2400, 2500, 2700]\n",
    "\n",
    "# Espacio para tu respuesta de la Sección 3"
   ],
   "id": "4f4bb57234e409d7",
   "outputs": [],
   "execution_count": 6
  },
  {
   "metadata": {
    "ExecuteTime": {
     "end_time": "2025-09-15T03:39:54.565332Z",
     "start_time": "2025-09-15T03:39:54.557933Z"
    }
   },
   "cell_type": "markdown",
   "source": [
    "### Sección 4: Gráfico de Dispersión (Scatter Plot)\n",
    "\n",
    "1.  Usa los datos de `altura` y `peso` para crear un gráfico de dispersión.\n",
    "2.  Personaliza el gráfico:\n",
    "    * Los puntos deben ser de color morado (`purple`).\n",
    "    * El tamaño de cada punto (`s`) debe ser 60.\n",
    "    * La transparencia (`alpha`) de los puntos debe ser 0.7."
   ],
   "id": "fb8176a9f79fd7d8"
  },
  {
   "metadata": {
    "ExecuteTime": {
     "end_time": "2025-09-15T03:40:04.043591Z",
     "start_time": "2025-09-15T03:40:04.040616Z"
    }
   },
   "cell_type": "code",
   "source": [
    "# Datos de ejemplo (altura en cm, peso en kg)\n",
    "altura = np.array([165, 170, 172, 175, 180, 182, 185, 188, 190, 168, 174, 181])\n",
    "peso = np.array([65, 72, 75, 78, 82, 85, 88, 90, 94, 68, 76, 84])\n",
    "\n",
    "# Espacio para tu respuesta de la Sección 4"
   ],
   "id": "79f66005b1d83096",
   "outputs": [],
   "execution_count": 8
  },
  {
   "metadata": {
    "ExecuteTime": {
     "end_time": "2025-09-15T03:40:19.608723Z",
     "start_time": "2025-09-15T03:40:19.604907Z"
    }
   },
   "cell_type": "markdown",
   "source": [
    "### ⭐ Desafío\n",
    "\n",
    "Combina varios de los conceptos aprendidos para crear el siguiente gráfico:\n",
    "\n",
    "1.  Genera datos para una función coseno desde `-2π` hasta `+2π`.\n",
    "2.  Grafica la función coseno.\n",
    "3.  Usando `fill_between`, sombrea el área entre la curva del coseno y el eje X.\n",
    "4.  Añade una anotación (`annotate`) con una flecha que apunte al punto más bajo de la curva, indicando su valor (`cos(π) = -1`)."
   ],
   "id": "a133b5a4bed4b726"
  },
  {
   "metadata": {},
   "cell_type": "code",
   "outputs": [],
   "execution_count": null,
   "source": "",
   "id": "bf635b24a2d7ae67"
  }
 ],
 "metadata": {
  "kernelspec": {
   "display_name": "Python 3",
   "language": "python",
   "name": "python3"
  },
  "language_info": {
   "codemirror_mode": {
    "name": "ipython",
    "version": 2
   },
   "file_extension": ".py",
   "mimetype": "text/x-python",
   "name": "python",
   "nbconvert_exporter": "python",
   "pygments_lexer": "ipython2",
   "version": "2.7.6"
  }
 },
 "nbformat": 4,
 "nbformat_minor": 5
}
