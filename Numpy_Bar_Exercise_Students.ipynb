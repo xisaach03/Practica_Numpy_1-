{
 "cells": [
  {
   "metadata": {
    "collapsed": true,
    "ExecuteTime": {
     "end_time": "2025-09-15T03:58:59.180607Z",
     "start_time": "2025-09-15T03:58:59.173952Z"
    }
   },
   "cell_type": "markdown",
   "source": [
    "```\n",
    "                                                                    .___ ______________________  _________________\n",
    "                                                                    |   |\\__    ___/\\_   _____/ /   _____/\\_____  \\\n",
    "                                                                    |   |  |    |    |    __)_  \\_____  \\  /   |   \\\n",
    "                                                                    |   |  |    |    |        \\ /        \\/    |    \\\n",
    "                                                                    |___|  |____|   /_______  //_______  /\\_______  /\n",
    "                                                                                            \\/         \\/         \\/\n",
    "```\n",
    "<div class=\"alert alert-block alert-info\">\n",
    "<span style=\"color: rgb(0,53,91);\">\n",
    "<font face = \"Times New Roman\" size = \"6\"><b><center>Programacion para Mineria de Datos</center></b></font>\n",
    "<font face = \"Times New Roman\" size = \"5\"><b><center>EJERCICIO_2_NUMPY_BAR</center></b></font>\n",
    "\n",
    "<b><font back = \"Times New Roman\" size = \"4\"><center>Unidad 3: </center></font>\n",
    "\n",
    "<div align=\"right\"><font face = \"Times New Roman\" size = \"2\">Mtro. Miguel Tlapa Juarez (migueltlapa@iteso.mx)</font></div>\n",
    "</span></div>\n"
   ],
   "id": "1a5e2cac29395ff8"
  },
  {
   "metadata": {
    "ExecuteTime": {
     "end_time": "2025-09-15T04:00:04.876366Z",
     "start_time": "2025-09-15T04:00:04.868138Z"
    }
   },
   "cell_type": "markdown",
   "source": [
    "# Ejercicios Prácticos: Gráficos de Barras con NumPy y Matplotlib\n",
    "\n",
    "**Instrucciones:** Utiliza tus conocimientos de NumPy y Matplotlib para crear los siguientes gráficos de barras. Escribe tu código en las celdas designadas para cada sección."
   ],
   "id": "6203c43e61b65a85"
  },
  {
   "metadata": {},
   "cell_type": "markdown",
   "source": [
    "### Sección 1: Gráfico de Barras Vertical Básico\n",
    "\n",
    "1.  **Crear el gráfico:** Utiliza los datos proporcionados para crear un gráfico de barras vertical que muestre la cantidad de votos para cada mascota.\n",
    "2.  **Añadir Etiquetas:** Agrega un título al gráfico que diga \"Mascota Favorita de la Clase\", una etiqueta para el eje X (\"Mascota\") y una para el eje Y (\"Número de Votos\").\n",
    "3.  **Personalizar una Barra:** Haz que la barra de la mascota con más votos sea de color `gold` (dorado)."
   ],
   "id": "6583eb6b01001ed8"
  },
  {
   "metadata": {
    "ExecuteTime": {
     "end_time": "2025-09-15T04:00:25.725877Z",
     "start_time": "2025-09-15T04:00:25.357505Z"
    }
   },
   "cell_type": "code",
   "source": [
    "import matplotlib.pyplot as plt\n",
    "import numpy as np\n",
    "\n",
    "mascotas = ['Perro', 'Gato', 'Pez', 'Hámster', 'Pájaro']\n",
    "votos = [12, 8, 5, 3, 2]\n",
    "\n",
    "# Espacio para tus respuestas de la Sección 1"
   ],
   "id": "b7e28ccdb2034eea",
   "outputs": [],
   "execution_count": 3
  },
  {
   "metadata": {},
   "cell_type": "markdown",
   "source": [
    "### Sección 2: Gráfico de Barras Horizontal\n",
    "\n",
    "1.  **Crear el gráfico:** Con los datos de ventas por producto, crea un gráfico de barras **horizontal**.\n",
    "2.  **Añadir Etiquetas:** Nombra el eje X como \"Ventas (en miles)\" y el eje Y como \"Productos\".\n",
    "3.  **Invertir el Eje:** Asegúrate de que el producto con las mayores ventas aparezca en la parte superior del gráfico."
   ],
   "id": "f90574140c813b92"
  },
  {
   "metadata": {
    "ExecuteTime": {
     "end_time": "2025-09-15T04:02:48.275073Z",
     "start_time": "2025-09-15T04:02:48.270933Z"
    }
   },
   "cell_type": "code",
   "source": [
    "productos = ['Laptop', 'Mouse', 'Teclado', 'Monitor', 'Webcam']\n",
    "ventas_miles = [85, 120, 95, 110, 75]\n",
    "\n",
    "# Espacio para tus respuestas de la Sección 2"
   ],
   "id": "c603dbcff1661440",
   "outputs": [],
   "execution_count": 4
  },
  {
   "metadata": {},
   "cell_type": "markdown",
   "source": [
    "### Sección 3: Gráfico de Barras Agrupado\n",
    "\n",
    "1.  **Crear el gráfico:** Compara las calificaciones promedio de dos grupos (Grupo A y Grupo B) en diferentes materias usando un gráfico de barras agrupado.\n",
    "2.  **Personalizar:**\n",
    "    * Usa el color `skyblue` para el Grupo A y `lightcoral` para el Grupo B.\n",
    "    * Añade una leyenda (`legend`) para identificar a qué grupo pertenece cada barra.\n",
    "    * Asegúrate de que las etiquetas del eje X (\"Matemáticas\", \"Ciencias\", etc.) queden centradas entre cada par de barras."
   ],
   "id": "7adaaac77bf636b8"
  },
  {
   "metadata": {
    "ExecuteTime": {
     "end_time": "2025-09-15T04:03:08.173607Z",
     "start_time": "2025-09-15T04:03:08.169996Z"
    }
   },
   "cell_type": "code",
   "source": [
    "materias = ['Matemáticas', 'Ciencias', 'Historia', 'Literatura']\n",
    "calificaciones_A = np.array([8.5, 9.0, 7.8, 8.8])\n",
    "calificaciones_B = np.array([8.0, 8.5, 8.2, 9.1])\n",
    "\n",
    "# Espacio para tus respuestas de la Sección 3"
   ],
   "id": "8e8222e5ba36e8f0",
   "outputs": [],
   "execution_count": 5
  },
  {
   "metadata": {},
   "cell_type": "markdown",
   "source": [
    "### ⭐ Desafío  Gráfico de Barras Apilado\n",
    "\n",
    "Imagina que tienes los datos de ventas trimestrales para tres regiones diferentes (Norte, Sur y Centro).\n",
    "\n",
    "1.  **Crear el gráfico:** Crea un gráfico de barras **apilado** donde cada barra represente un trimestre.\n",
    "2.  **Apilar los Datos:** Cada barra debe estar dividida en tres segmentos, cada uno representando las ventas de una región (Norte, Sur, Centro) en ese trimestre.\n",
    "3.  **Personalizar:**\n",
    "    * Usa colores distintos para cada región.\n",
    "    * Añade una leyenda para identificar los colores de las regiones.\n",
    "    * Etiqueta adecuadamente los ejes y el título del gráfico."
   ],
   "id": "4438a4f69b483378"
  }
 ],
 "metadata": {
  "kernelspec": {
   "display_name": "Python 3",
   "language": "python",
   "name": "python3"
  },
  "language_info": {
   "codemirror_mode": {
    "name": "ipython",
    "version": 2
   },
   "file_extension": ".py",
   "mimetype": "text/x-python",
   "name": "python",
   "nbconvert_exporter": "python",
   "pygments_lexer": "ipython2",
   "version": "2.7.6"
  }
 },
 "nbformat": 4,
 "nbformat_minor": 5
}
