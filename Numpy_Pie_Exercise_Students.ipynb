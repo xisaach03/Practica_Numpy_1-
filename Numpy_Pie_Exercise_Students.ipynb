{
 "cells": [
  {
   "cell_type": "markdown",
   "id": "51ffea44044c6013",
   "metadata": {
    "ExecuteTime": {
     "end_time": "2025-09-15T04:08:13.171225Z",
     "start_time": "2025-09-15T04:08:13.167022Z"
    }
   },
   "source": [
    "```\n",
    "                                                                    .___ ______________________  _________________\n",
    "                                                                    |   |\\__    ___/\\_   _____/ /   _____/\\_____  \\\n",
    "                                                                    |   |  |    |    |    __)_  \\_____  \\  /   |   \\\n",
    "                                                                    |   |  |    |    |        \\ /        \\/    |    \\\n",
    "                                                                    |___|  |____|   /_______  //_______  /\\_______  /\n",
    "                                                                                            \\/         \\/         \\/\n",
    "```\n",
    "<div class=\"alert alert-block alert-info\">\n",
    "<span style=\"color: rgb(0,53,91);\">\n",
    "<font face = \"Times New Roman\" size = \"6\"><b><center>Programacion para Mineria de Datos</center></b></font>\n",
    "<font face = \"Times New Roman\" size = \"5\"><b><center>EJERCICIO_2_NUMPY_PIE</center></b></font>\n",
    "\n",
    "<b><font back = \"Times New Roman\" size = \"4\"><center>Unidad 3: </center></font>\n",
    "\n",
    "<div align=\"right\"><font face = \"Times New Roman\" size = \"2\">Mtro. Miguel Tlapa Juarez (migueltlapa@iteso.mx)</font></div>\n",
    "</span></div>\n"
   ]
  },
  {
   "cell_type": "markdown",
   "id": "8987edbff1d7f890",
   "metadata": {},
   "source": [
    "# Ejercicios Prácticos: Arrays de NumPy y Gráficos de Barras\n",
    "\n",
    "**Instrucciones:** Utiliza tus conocimientos de NumPy y Matplotlib para resolver los siguientes problemas. Escribe el código necesario en las celdas designadas."
   ]
  },
  {
   "cell_type": "markdown",
   "id": "f64ff83b293befb4",
   "metadata": {},
   "source": [
    "### Sección 1: Gráfico Circular Básico y Etiquetas\n",
    "\n",
    "Imagina que realizaste una encuesta sobre el género de película favorito en tu clase. Los resultados son los siguientes:\n",
    "\n",
    "1.  **Crear el gráfico:** Genera un gráfico de pastel básico que muestre la distribución de preferencias.\n",
    "2.  **Añadir Porcentajes:** Muestra el porcentaje de cada \"rebanada\" directamente en el gráfico, con un solo decimal.\n",
    "3.  **Añadir Título:** Agrega un título al gráfico que diga \"Géneros de Película Favoritos\"."
   ]
  },
  {
   "cell_type": "code",
   "execution_count": null,
   "id": "992842e092c909c3",
   "metadata": {
    "ExecuteTime": {
     "end_time": "2025-09-15T04:14:21.981338Z",
     "start_time": "2025-09-15T04:14:21.977829Z"
    }
   },
   "outputs": [],
   "source": [
    "import matplotlib.pyplot as plt\n",
    "\n",
    "# Datos de la encuesta\n",
    "generos = ['Comedia', 'Acción', 'Ciencia Ficción', 'Drama', 'Terror']\n",
    "votos = [4, 5, 4, 1, 2]\n",
    "\n",
    "# Espacio para tus respuestas de la Sección 1\n",
    "\n",
    "plt.pie(votos, labels=generos, autopct='%1.1f%%')  # Se coloca primero la cantidad, después las etiquetas y por último el porcentaje con un solo decimal\n",
    "plt.title('Géneros de películas favoritos')        # Titulo del gráfico\n",
    "plt.show()"
   ]
  },
  {
   "cell_type": "markdown",
   "id": "d0fab9651013900c",
   "metadata": {},
   "source": [
    "### Sección 2: Personalización del Gráfico (Explode, Colores y Sombra)\n",
    "\n",
    "Usando los mismos datos de la sección anterior, vamos a hacer que el gráfico sea más llamativo.\n",
    "\n",
    "1.  **Destacar una Rebanada (Explode):** Separa ligeramente la rebanada del género \"Acción\" del resto del gráfico.\n",
    "2.  **Personalizar Colores:** Asigna colores específicos a cada género. Puedes usar esta lista: `['gold', 'orangered', 'lightskyblue', 'lightcoral', 'darkgrey']`.\n",
    "3.  **Añadir Sombra y Rotación:** Agrega una sombra al gráfico y haz que la primera rebanada comience en un ángulo de 90 grados."
   ]
  },
  {
   "cell_type": "code",
   "execution_count": null,
   "id": "3b87b1ff6cb9ef11",
   "metadata": {
    "ExecuteTime": {
     "end_time": "2025-09-15T04:14:41.971588Z",
     "start_time": "2025-09-15T04:14:41.967629Z"
    }
   },
   "outputs": [],
   "source": [
    "# Utiliza los mismos datos 'generos' y 'votos' de la sección anterior.\n",
    "import matplotlib.pyplot as plt\n",
    "\n",
    "generos = ['Comedia', 'Acción', 'Ciencia Ficción', 'Drama', 'Terror']\n",
    "votos = [4, 5, 4, 1, 2]\n",
    "\n",
    "# Espacio para tus respuestas de la Sección 2\n",
    "separacion = [0, 0.1, 0, 0, 0]  #Separamos Acción del resto de los generos.\n",
    "\n",
    "\n",
    "plt.pie(votos, labels=generos, autopct='%1.1f%%', explode=separacion,  # Se coloca primero la cantidad, después las etiquetas y por último el porcentaje con un solo decimal.\n",
    "        colors=['gold', 'orangered', 'lightskyblue', 'lightcoral', 'darkgrey'],  # Utilizamos explode para separar el género de acción y ponemos colores personalizados.\n",
    "        shadow=True, startangle=90)  # Sombra y ángulo de inicio del gráfico (90°).\n",
    "plt.title('Géneros de películas favoritos')        # Titulo del gráfico\n",
    "plt.show()\n",
    "\n"
   ]
  },
  {
   "cell_type": "markdown",
   "id": "be0dd2f0a4e23739",
   "metadata": {
    "ExecuteTime": {
     "end_time": "2025-09-15T04:14:56.995655Z",
     "start_time": "2025-09-15T04:14:56.990601Z"
    }
   },
   "source": [
    "### ⭐ Desafío : Gráfico a partir de Datos Agrupados\n",
    "\n",
    "Este desafío simula el proceso de leer datos de un archivo, agruparlos y luego graficarlos, similar al último ejemplo del notebook.\n",
    "\n",
    "A continuación, tienes una lista de ventas de diferentes productos, cada uno perteneciente a una categoría.\n",
    "\n",
    "1.  **Procesar los Datos:** Escribe un código que agrupe las ventas totales por categoría. Un diccionario es una excelente herramienta para esto.\n",
    "2.  **Preparar para el Gráfico:** Extrae las etiquetas (categorías) y los tamaños (ventas totales por categoría) del diccionario que creaste.\n",
    "3.  **Crear el Gráfico de Pastel:** Genera un gráfico de pastel que muestre qué porcentaje de las ventas totales corresponde a cada categoría de producto. Personalízalo como prefieras (colores, título, etc.)."
   ]
  },
  {
   "cell_type": "code",
   "execution_count": null,
   "id": "24169f24a810502f",
   "metadata": {
    "ExecuteTime": {
     "end_time": "2025-09-15T04:15:11.079606Z",
     "start_time": "2025-09-15T04:15:11.076399Z"
    }
   },
   "outputs": [],
   "source": [
    "import numpy as np\n",
    "import matplotlib.pyplot as plt\n",
    "\n",
    "# Datos de ventas como si vinieran de un archivo de texto\n",
    "datos_ventas = [\n",
    "    'Laptop,Electrónica,1200',\n",
    "    'Mouse,Electrónica,25',\n",
    "    'Libro,Libros,15',\n",
    "    'Camisa,Ropa,30',\n",
    "    'Teclado,Electrónica,75',\n",
    "    'Pantalón,Ropa,50',\n",
    "    'Novela,Libros,20',\n",
    "    'Audífonos,Electrónica,50'\n",
    "]\n",
    "\n",
    "# Espacio para tu respuesta al desafío\n",
    "\n",
    "# Separar cada linea en una lista de 3 (, , ,) por cada elemento.\n",
    "# Con n.array tendremos una matriz \n",
    "datos_separados = np.array([linea.split(',') for linea in datos_ventas])\n",
    "\n",
    "#Extraemos cada columna\n",
    "categorias_array = datos_separados[:, 1]  # Columna 1: categorías\n",
    "ventas_array = datos_separados[:, 2].astype(float)  # Columna 2:precio \n",
    "\n",
    "#Agrupamos las ventas por categoría, eliminando duplicados\n",
    "categorias_unicas = np.unique(categorias_array)\n",
    "\n",
    "#Creamos la lista donde haremos la relación de categoría y ventas\n",
    "ventas_por_categoria = []\n",
    "\n",
    "# Para cada categoría única, sumamos todas sus ventas\n",
    "for categoria in categorias_unicas:\n",
    "    #Hacemos un validador para cada categoría (True/False)\n",
    "    i = categorias_array == categoria\n",
    "    #Sumamos las ventas por cada categoría\n",
    "    total_ventas = np.sum(ventas_array[i])\n",
    "    ventas_por_categoria.append(total_ventas)\n",
    "\n",
    "#Lo convertimos a un array de Numpy para mejor accesibilidad\n",
    "ventas_por_categoria = np.array(ventas_por_categoria)\n",
    "\n",
    "# Creamos el grafico\n",
    "colores = ['lightblue', 'lightgreen', 'lightcoral', 'gold', 'lightsalmon']  # Colores personalizados\n",
    "plt.pie_(ventas_por_categoria, #datos\n",
    "         labels=categorias_unicas, #etiquetas (categorias)\n",
    "         autopct='%1.1f%%', #formato con porcentaje\n",
    "         colors =colores, \n",
    "         shadow=True,   #sombra\n",
    "         startangle=90 ) # rotarcion (90 grados)\n",
    "plt.title('Ventas por categoría de producto')\n",
    "plt.show()\n",
    "\n",
    "\n",
    "\n",
    "\n"
   ]
  }
 ],
 "metadata": {
  "kernelspec": {
   "display_name": "Python 3",
   "language": "python",
   "name": "python3"
  },
  "language_info": {
   "codemirror_mode": {
    "name": "ipython",
    "version": 2
   },
   "file_extension": ".py",
   "mimetype": "text/x-python",
   "name": "python",
   "nbconvert_exporter": "python",
   "pygments_lexer": "ipython2",
   "version": "2.7.6"
  }
 },
 "nbformat": 4,
 "nbformat_minor": 5
}
