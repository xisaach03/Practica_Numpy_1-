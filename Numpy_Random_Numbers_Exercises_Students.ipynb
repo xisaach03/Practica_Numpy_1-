{
 "cells": [
  {
   "cell_type": "markdown",
   "id": "bf06679c906a7f67",
   "metadata": {
    "collapsed": true,
    "jupyter": {
     "is_executing": true
    }
   },
   "source": [
    "```\n",
    "                                                                    .___ ______________________  _________________\n",
    "                                                                    |   |\\__    ___/\\_   _____/ /   _____/\\_____  \\\n",
    "                                                                    |   |  |    |    |    __)_  \\_____  \\  /   |   \\\n",
    "                                                                    |   |  |    |    |        \\ /        \\/    |    \\\n",
    "                                                                    |___|  |____|   /_______  //_______  /\\_______  /\n",
    "                                                                                            \\/         \\/         \\/\n",
    "```\n",
    "<div class=\"alert alert-block alert-info\">\n",
    "<span style=\"color: rgb(0,53,91);\">\n",
    "<font face = \"Times New Roman\" size = \"6\"><b><center>Programacion para Mineria de Datos</center></b></font>\n",
    "<font face = \"Times New Roman\" size = \"5\"><b><center>EJERCICIO_NUMPY_RANDOM</center></b></font>\n",
    "\n",
    "<b><font back = \"Times New Roman\" size = \"4\"><center>Unidad 3: </center></font>\n",
    "\n",
    "<div align=\"right\"><font face = \"Times New Roman\" size = \"2\">Mtro. Miguel Tlapa Juarez (migueltlapa@iteso.mx)</font></div>\n",
    "</span></div>"
   ]
  },
  {
   "cell_type": "markdown",
   "id": "b6b4f391d890f35a",
   "metadata": {},
   "source": [
    "# Ejercicios Prácticos de NumPy: Arrays\n",
    "\n",
    "**Instrucciones:** Utiliza tus conocimientos de NumPy para resolver los siguientes problemas. Escribe el código necesario en las celdas correspondientes para obtener el resultado solicitado."
   ]
  },
  {
   "cell_type": "markdown",
   "id": "c85190d9160a5300",
   "metadata": {
    "ExecuteTime": {
     "end_time": "2025-09-15T03:21:54.774650Z",
     "start_time": "2025-09-15T03:21:54.766954Z"
    }
   },
   "source": [
    "### Sección 1: Generación de Números Aleatorios\n",
    "\n",
    "1.  **Entero único:** Simula el lanzamiento de un dado de 6 caras. Genera un único número entero aleatorio entre 1 y 6 (ambos inclusive).\n",
    "2.  **Array de flotantes:** Crea un array de NumPy con 8 números flotantes aleatorios, donde cada número esté entre 0.0 y 1.0.\n",
    "3.  **Matriz de enteros:** Crea una matriz (array 2D) de 3x4 que contenga números enteros aleatorios entre 10 y 50 (sin incluir el 50)."
   ]
  },
  {
   "cell_type": "code",
   "execution_count": 1,
   "id": "67785a743a8c64af",
   "metadata": {
    "ExecuteTime": {
     "end_time": "2025-09-15T03:22:16.187826Z",
     "start_time": "2025-09-15T03:22:16.107577Z"
    }
   },
   "outputs": [
    {
     "name": "stdout",
     "output_type": "stream",
     "text": [
      "Resultado del dado: 6\n",
      "Array de flotantes: [0.88005442 0.39786185 0.23057585 0.32309166 0.52472787 0.46470086\n",
      " 0.38358856 0.67920582]\n",
      "Matriz de enteros 3x4:\n",
      "[[34 44 45 32]\n",
      " [34 10 16 40]\n",
      " [14 38 13 37]]\n"
     ]
    }
   ],
   "source": [
    "import numpy as np\n",
    "import random\n",
    "\n",
    "# Espacio para tus respuestas de la Sección 1\n",
    "\n",
    "# 1. Entero único: Simula el lanzamiento de un dado de 6 caras\n",
    "dado = np.random.randint(1, 7)\n",
    "print(f\"Resultado del dado: {dado}\")\n",
    "\n",
    "# 2. Array de flotantes: 8 números flotantes aleatorios entre 0.0 y 1.0\n",
    "array_flotantes = np.random.random(8)\n",
    "print(f\"Array de flotantes: {array_flotantes}\")\n",
    "\n",
    "# 3. Matriz de enteros: 3x4 con números enteros aleatorios entre 10 y 50 (sin incluir 50)\n",
    "matriz_enteros = np.random.randint(10, 50, size=(3, 4))\n",
    "print(f\"Matriz de enteros 3x4:\\n{matriz_enteros}\")"
   ]
  },
  {
   "cell_type": "markdown",
   "id": "7d05102462061091",
   "metadata": {},
   "source": [
    "### Sección 2: Elecciones Aleatorias de una Lista\n",
    "\n",
    "Usa la siguiente lista de `posibles_premios` para los ejercicios de esta sección:"
   ]
  },
  {
   "cell_type": "code",
   "execution_count": 2,
   "id": "4ac24b19532d69c4",
   "metadata": {
    "ExecuteTime": {
     "end_time": "2025-09-15T03:22:45.051281Z",
     "start_time": "2025-09-15T03:22:45.048764Z"
    }
   },
   "outputs": [],
   "source": [
    "posibles_premios = [\"Coche\", \"Viaje\", \"Laptop\", \"Smartphone\", \"Nada\", \"Tablet\"]"
   ]
  },
  {
   "cell_type": "markdown",
   "id": "331084fac3b72adc",
   "metadata": {},
   "source": [
    "1.  **Elección única:** Elige un premio al azar de la lista `posibles_premios`.\n",
    "2.  **Múltiples elecciones (con reemplazo):** Simula 5 sorteos de premios. Crea un array de NumPy que contenga 5 elecciones al azar de la lista. En esta simulación, un mismo premio puede salir varias veces.\n",
    "3.  **Múltiples elecciones (sin reemplazo):** Elige 3 premios **únicos** de la lista. Ningún premio debe repetirse en el resultado."
   ]
  },
  {
   "cell_type": "code",
   "execution_count": 3,
   "id": "9c1b9a35666ac7b9",
   "metadata": {
    "ExecuteTime": {
     "end_time": "2025-09-15T03:23:53.085719Z",
     "start_time": "2025-09-15T03:23:53.083625Z"
    }
   },
   "outputs": [
    {
     "name": "stdout",
     "output_type": "stream",
     "text": [
      "Premio único: Tablet\n",
      "5 sorteos con reemplazo: ['Tablet' 'Laptop' 'Nada' 'Smartphone' 'Coche']\n",
      "3 premios únicos: ['Tablet' 'Smartphone' 'Coche']\n"
     ]
    }
   ],
   "source": [
    "# Espacio para tus respuestas de la Sección 2\n",
    "\n",
    "# 1. Elección única: Elige un premio al azar de la lista posibles_premios\n",
    "premio_unico = np.random.choice(posibles_premios)\n",
    "print(f\"Premio único: {premio_unico}\")\n",
    "\n",
    "# 2. Múltiples elecciones (con reemplazo): 5 sorteos de premios\n",
    "sorteos_con_reemplazo = np.random.choice(posibles_premios, size=5, replace=True)\n",
    "print(f\"5 sorteos con reemplazo: {sorteos_con_reemplazo}\")\n",
    "\n",
    "# 3. Múltiples elecciones (sin reemplazo): 3 premios únicos\n",
    "premios_unicos = np.random.choice(posibles_premios, size=3, replace=False)\n",
    "print(f\"3 premios únicos: {premios_unicos}\")"
   ]
  },
  {
   "cell_type": "markdown",
   "id": "f1d4adf860304e69",
   "metadata": {},
   "source": [
    "### Sección 3: Reproducibilidad (Semilla Aleatoria)\n",
    "\n",
    "1.  **Generación con semilla:** Usando el módulo `random`, establece una semilla aleatoria con el valor `123`. Luego, genera y muestra una lista de 5 números enteros aleatorios entre 1 y 100.\n",
    "2.  **Comprobación de reproducibilidad:** En la misma celda, vuelve a establecer la semilla a `123` y genera otra vez 5 números enteros aleatorios entre 1 y 100. El resultado debería ser idéntico al anterior."
   ]
  },
  {
   "cell_type": "code",
   "execution_count": 4,
   "id": "7b1a50300322eb82",
   "metadata": {},
   "outputs": [
    {
     "name": "stdout",
     "output_type": "stream",
     "text": [
      "Primera generación con semilla 123: [7, 35, 12, 99, 53]\n",
      "Segunda generación con semilla 123: [7, 35, 12, 99, 53]\n",
      "¿Los resultados son idénticos? True\n"
     ]
    }
   ],
   "source": [
    "# Espacio para tus respuestas de la Sección 3\n",
    "\n",
    "# 1. Generación con semilla\n",
    "random.seed(123)\n",
    "numeros_primera_vez = [random.randint(1, 100) for _ in range(5)]\n",
    "print(f\"Primera generación con semilla 123: {numeros_primera_vez}\")\n",
    "\n",
    "# 2. Comprobación de reproducibilidad\n",
    "random.seed(123)\n",
    "numeros_segunda_vez = [random.randint(1, 100) for _ in range(5)]\n",
    "print(f\"Segunda generación con semilla 123: {numeros_segunda_vez}\")\n",
    "\n",
    "# Verificar que son iguales\n",
    "print(f\"¿Los resultados son idénticos? {numeros_primera_vez == numeros_segunda_vez}\")"
   ]
  },
  {
   "cell_type": "markdown",
   "id": "8c38ea8c27e7720b",
   "metadata": {},
   "source": [
    "### Sección 4: Aplicaciones y Preguntas Conceptuales\n",
    "\n",
    "1.  **Normalización a 1:** Imagina que tienes un presupuesto de $1 que debes distribuir aleatoriamente entre 5 proyectos. Crea un array de NumPy con 5 números aleatorios y luego normalízalos para que su suma sea exactamente 1.0.\n",
    "2.  **Pregunta conceptual:** Basado en el notebook, ¿cuándo y por qué preferirías usar `numpy.random` en lugar del módulo `random` de Python estándar?"
   ]
  },
  {
   "cell_type": "code",
   "execution_count": 5,
   "id": "b97dfaac5d392c70",
   "metadata": {
    "ExecuteTime": {
     "end_time": "2025-09-15T03:24:41.674239Z",
     "start_time": "2025-09-15T03:24:41.671314Z"
    }
   },
   "outputs": [
    {
     "name": "stdout",
     "output_type": "stream",
     "text": [
      "Números aleatorios originales: [0.89665979 0.48189465 0.75110628 0.01376234 0.81992903]\n",
      "Presupuestos normalizados: [0.30258294 0.16261809 0.25346508 0.00464418 0.27668971]\n",
      "Suma total: 1.0\n",
      "Cada proyecto recibe: [30.25829407 16.26180879 25.34650819  0.46441808 27.66897086]% del presupuesto\n"
     ]
    }
   ],
   "source": [
    "# Espacio para tu respuesta 4.1\n",
    "\n",
    "# 1. Normalización a 1: Distribuir $1 entre 5 proyectos\n",
    "presupuestos_aleatorios = np.random.random(5)\n",
    "print(f\"Números aleatorios originales: {presupuestos_aleatorios}\")\n",
    "\n",
    "# Normalizar para que sumen exactamente 1.0\n",
    "presupuestos_normalizados = presupuestos_aleatorios / presupuestos_aleatorios.sum()\n",
    "print(f\"Presupuestos normalizados: {presupuestos_normalizados}\")\n",
    "print(f\"Suma total: {presupuestos_normalizados.sum()}\")\n",
    "print(f\"Cada proyecto recibe: {presupuestos_normalizados * 100}% del presupuesto\")"
   ]
  },
  {
   "cell_type": "markdown",
   "id": "85f46dd9e429f953",
   "metadata": {},
   "source": [
    "**Respuesta conceptual para la pregunta 4.2:**\n",
    "\n",
    "Preferiría usar `numpy.random` en lugar del módulo `random` de Python estándar en las siguientes situaciones:\n",
    "\n",
    "1. **Trabajando con arrays de NumPy**: `numpy.random` está diseñado específicamente para trabajar con arrays de NumPy y puede generar directamente arrays multidimensionales de números aleatorios, mientras que el módulo `random` de Python genera valores individuales.\n",
    "\n",
    "2. **Rendimiento**: `numpy.random` es significativamente más rápido para generar grandes cantidades de números aleatorios debido a que está implementado en C y optimizado para operaciones vectorizadas.\n",
    "\n",
    "3. **Operaciones vectorizadas**: Cuando necesito generar muchos números aleatorios de una vez (por ejemplo, una matriz completa), `numpy.random` puede hacerlo en una sola operación, mientras que con `random` tendría que usar bucles o list comprehensions.\n",
    "\n",
    "4. **Integración con el ecosistema científico**: Al trabajar con bibliotecas como NumPy, SciPy, Pandas, etc., `numpy.random` se integra mejor y mantiene la consistencia en el tipo de datos (arrays de NumPy).\n",
    "\n",
    "5. **Funciones especializadas**: `numpy.random` ofrece distribuciones estadísticas más avanzadas (normal, binomial, poisson, etc.) que son comunes en análisis científico y de datos."
   ]
  },
  {
   "cell_type": "markdown",
   "id": "798bc171392dc50",
   "metadata": {},
   "source": [
    "### ⭐ Desafío\n",
    "\n",
    "Simula el lanzamiento de una moneda 1000 veces. La moneda no está trucada (50% de probabilidad para cara y 50% para cruz).\n",
    "\n",
    "1.  Genera un array de NumPy que represente los 1000 lanzamientos (puedes usar 0 para cruz y 1 para cara).\n",
    "2.  Cuenta y muestra cuántas veces salió cara y cuántas veces salió cruz."
   ]
  },
  {
   "cell_type": "code",
   "execution_count": 6,
   "id": "d341bda52ef7ecdd",
   "metadata": {
    "ExecuteTime": {
     "end_time": "2025-09-15T03:25:28.058381Z",
     "start_time": "2025-09-15T03:25:28.055823Z"
    }
   },
   "outputs": [
    {
     "name": "stdout",
     "output_type": "stream",
     "text": [
      "Primeros 20 lanzamientos: [1 0 0 0 0 0 0 0 1 0 1 1 1 1 1 0 1 1 0 1]\n",
      "\n",
      "Resultados de 1000 lanzamientos:\n",
      "Caras (1): 522 veces (52.2%)\n",
      "Cruces (0): 478 veces (47.8%)\n",
      "Total: 1000 lanzamientos\n",
      "\n",
      "Verificación: 1000 lanzamientos realizados\n"
     ]
    }
   ],
   "source": [
    "# Espacio para tu respuesta al desafío\n",
    "\n",
    "# Simulación de lanzamiento de moneda 1000 veces\n",
    "# 0 = cruz, 1 = cara\n",
    "\n",
    "lanzamientos = np.random.randint(0, 2, size=1000)\n",
    "print(f\"Primeros 20 lanzamientos: {lanzamientos[:20]}\")\n",
    "\n",
    "# Contar resultados\n",
    "caras = np.sum(lanzamientos == 1)\n",
    "cruces = np.sum(lanzamientos == 0)\n",
    "\n",
    "print(f\"\\nResultados de 1000 lanzamientos:\")\n",
    "print(f\"Caras (1): {caras} veces ({caras/1000*100:.1f}%)\")\n",
    "print(f\"Cruces (0): {cruces} veces ({cruces/1000*100:.1f}%)\")\n",
    "print(f\"Total: {caras + cruces} lanzamientos\")\n",
    "\n",
    "# Verificación adicional\n",
    "print(f\"\\nVerificación: {len(lanzamientos)} lanzamientos realizados\")"
   ]
  }
 ],
 "metadata": {
  "kernelspec": {
   "display_name": "Python 3",
   "language": "python",
   "name": "python3"
  },
  "language_info": {
   "codemirror_mode": {
    "name": "ipython",
    "version": 3
   },
   "file_extension": ".py",
   "mimetype": "text/x-python",
   "name": "python",
   "nbconvert_exporter": "python",
   "pygments_lexer": "ipython3",
   "version": "3.11.9"
  }
 },
 "nbformat": 4,
 "nbformat_minor": 5
}
