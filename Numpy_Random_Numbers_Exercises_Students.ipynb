{
 "cells": [
  {
   "metadata": {
    "collapsed": true,
    "jupyter": {
     "is_executing": true
    }
   },
   "cell_type": "markdown",
   "source": [
    "```\n",
    "                                                                    .___ ______________________  _________________\n",
    "                                                                    |   |\\__    ___/\\_   _____/ /   _____/\\_____  \\\n",
    "                                                                    |   |  |    |    |    __)_  \\_____  \\  /   |   \\\n",
    "                                                                    |   |  |    |    |        \\ /        \\/    |    \\\n",
    "                                                                    |___|  |____|   /_______  //_______  /\\_______  /\n",
    "                                                                                            \\/         \\/         \\/\n",
    "```\n",
    "<div class=\"alert alert-block alert-info\">\n",
    "<span style=\"color: rgb(0,53,91);\">\n",
    "<font face = \"Times New Roman\" size = \"6\"><b><center>Programacion para Mineria de Datos</center></b></font>\n",
    "<font face = \"Times New Roman\" size = \"5\"><b><center>EJERCICIO_NUMPY_RANDOM</center></b></font>\n",
    "\n",
    "<b><font back = \"Times New Roman\" size = \"4\"><center>Unidad 3: </center></font>\n",
    "\n",
    "<div align=\"right\"><font face = \"Times New Roman\" size = \"2\">Mtro. Miguel Tlapa Juarez (migueltlapa@iteso.mx)</font></div>\n",
    "</span></div>"
   ],
   "id": "bf06679c906a7f67"
  },
  {
   "metadata": {},
   "cell_type": "markdown",
   "source": [
    "# Ejercicios Prácticos de NumPy: Arrays\n",
    "\n",
    "**Instrucciones:** Utiliza tus conocimientos de NumPy para resolver los siguientes problemas. Escribe el código necesario en las celdas correspondientes para obtener el resultado solicitado."
   ],
   "id": "b6b4f391d890f35a"
  },
  {
   "metadata": {
    "ExecuteTime": {
     "end_time": "2025-09-15T03:21:54.774650Z",
     "start_time": "2025-09-15T03:21:54.766954Z"
    }
   },
   "cell_type": "markdown",
   "source": [
    "### Sección 1: Generación de Números Aleatorios\n",
    "\n",
    "1.  **Entero único:** Simula el lanzamiento de un dado de 6 caras. Genera un único número entero aleatorio entre 1 y 6 (ambos inclusive).\n",
    "2.  **Array de flotantes:** Crea un array de NumPy con 8 números flotantes aleatorios, donde cada número esté entre 0.0 y 1.0.\n",
    "3.  **Matriz de enteros:** Crea una matriz (array 2D) de 3x4 que contenga números enteros aleatorios entre 10 y 50 (sin incluir el 50)."
   ],
   "id": "c85190d9160a5300"
  },
  {
   "metadata": {
    "ExecuteTime": {
     "end_time": "2025-09-15T03:22:16.187826Z",
     "start_time": "2025-09-15T03:22:16.107577Z"
    }
   },
   "cell_type": "code",
   "source": [
    "import numpy as np\n",
    "import random\n",
    "\n",
    "# Espacio para tus respuestas de la Sección 1"
   ],
   "id": "67785a743a8c64af",
   "outputs": [],
   "execution_count": 3
  },
  {
   "metadata": {},
   "cell_type": "markdown",
   "source": [
    "### Sección 2: Elecciones Aleatorias de una Lista\n",
    "\n",
    "Usa la siguiente lista de `posibles_premios` para los ejercicios de esta sección:"
   ],
   "id": "7d05102462061091"
  },
  {
   "metadata": {
    "ExecuteTime": {
     "end_time": "2025-09-15T03:22:45.051281Z",
     "start_time": "2025-09-15T03:22:45.048764Z"
    }
   },
   "cell_type": "code",
   "source": "posibles_premios = [\"Coche\", \"Viaje\", \"Laptop\", \"Smartphone\", \"Nada\", \"Tablet\"]",
   "id": "4ac24b19532d69c4",
   "outputs": [],
   "execution_count": 4
  },
  {
   "metadata": {},
   "cell_type": "markdown",
   "source": [
    "1.  **Elección única:** Elige un premio al azar de la lista `posibles_premios`.\n",
    "2.  **Múltiples elecciones (con reemplazo):** Simula 5 sorteos de premios. Crea un array de NumPy que contenga 5 elecciones al azar de la lista. En esta simulación, un mismo premio puede salir varias veces.\n",
    "3.  **Múltiples elecciones (sin reemplazo):** Elige 3 premios **únicos** de la lista. Ningún premio debe repetirse en el resultado."
   ],
   "id": "331084fac3b72adc"
  },
  {
   "metadata": {
    "ExecuteTime": {
     "end_time": "2025-09-15T03:23:53.085719Z",
     "start_time": "2025-09-15T03:23:53.083625Z"
    }
   },
   "cell_type": "code",
   "source": "# Espacio para tus respuestas de la Sección 2",
   "id": "9c1b9a35666ac7b9",
   "outputs": [],
   "execution_count": 6
  },
  {
   "metadata": {},
   "cell_type": "markdown",
   "source": [
    "### Sección 3: Reproducibilidad (Semilla Aleatoria)\n",
    "\n",
    "1.  **Generación con semilla:** Usando el módulo `random`, establece una semilla aleatoria con el valor `123`. Luego, genera y muestra una lista de 5 números enteros aleatorios entre 1 y 100.\n",
    "2.  **Comprobación de reproducibilidad:** En la misma celda, vuelve a establecer la semilla a `123` y genera otra vez 5 números enteros aleatorios entre 1 y 100. El resultado debería ser idéntico al anterior."
   ],
   "id": "f1d4adf860304e69"
  },
  {
   "metadata": {},
   "cell_type": "code",
   "outputs": [],
   "execution_count": null,
   "source": "# Espacio para tus respuestas de la Sección 2",
   "id": "7b1a50300322eb82"
  },
  {
   "metadata": {},
   "cell_type": "markdown",
   "source": [
    "### Sección 4: Aplicaciones y Preguntas Conceptuales\n",
    "\n",
    "1.  **Normalización a 1:** Imagina que tienes un presupuesto de $1 que debes distribuir aleatoriamente entre 5 proyectos. Crea un array de NumPy con 5 números aleatorios y luego normalízalos para que su suma sea exactamente 1.0.\n",
    "2.  **Pregunta conceptual:** Basado en el notebook, ¿cuándo y por qué preferirías usar `numpy.random` en lugar del módulo `random` de Python estándar?"
   ],
   "id": "8c38ea8c27e7720b"
  },
  {
   "metadata": {
    "ExecuteTime": {
     "end_time": "2025-09-15T03:24:41.674239Z",
     "start_time": "2025-09-15T03:24:41.671314Z"
    }
   },
   "cell_type": "code",
   "source": "# Espacio para tu respuesta 4.1",
   "id": "b97dfaac5d392c70",
   "outputs": [],
   "execution_count": 7
  },
  {
   "metadata": {},
   "cell_type": "markdown",
   "source": "*(Escribe tu respuesta conceptual para la pregunta 4.2 aquí)*",
   "id": "85f46dd9e429f953"
  },
  {
   "metadata": {},
   "cell_type": "markdown",
   "source": [
    "### ⭐ Desafío\n",
    "\n",
    "Simula el lanzamiento de una moneda 1000 veces. La moneda no está trucada (50% de probabilidad para cara y 50% para cruz).\n",
    "\n",
    "1.  Genera un array de NumPy que represente los 1000 lanzamientos (puedes usar 0 para cruz y 1 para cara).\n",
    "2.  Cuenta y muestra cuántas veces salió cara y cuántas veces salió cruz."
   ],
   "id": "798bc171392dc50"
  },
  {
   "metadata": {
    "ExecuteTime": {
     "end_time": "2025-09-15T03:25:28.058381Z",
     "start_time": "2025-09-15T03:25:28.055823Z"
    }
   },
   "cell_type": "code",
   "source": "# Espacio para tu respuesta al desafío",
   "id": "d341bda52ef7ecdd",
   "outputs": [],
   "execution_count": 8
  }
 ],
 "metadata": {
  "kernelspec": {
   "display_name": "Python 3",
   "language": "python",
   "name": "python3"
  },
  "language_info": {
   "codemirror_mode": {
    "name": "ipython",
    "version": 2
   },
   "file_extension": ".py",
   "mimetype": "text/x-python",
   "name": "python",
   "nbconvert_exporter": "python",
   "pygments_lexer": "ipython2",
   "version": "2.7.6"
  }
 },
 "nbformat": 4,
 "nbformat_minor": 5
}
